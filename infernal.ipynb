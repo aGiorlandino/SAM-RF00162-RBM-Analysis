{
 "cells": [
  {
   "cell_type": "code",
   "execution_count": 2,
   "id": "e45bcfc1",
   "metadata": {},
   "outputs": [
    {
     "name": "stderr",
     "output_type": "stream",
     "text": [
      "\u001b[32m\u001b[1m  Activating\u001b[22m\u001b[39m project at `~/Desktop/SAM`\n"
     ]
    },
    {
     "name": "stderr",
     "output_type": "stream",
     "text": [
      "\u001b[32m\u001b[1m  No Changes\u001b[22m\u001b[39m to `~/Desktop/SAM/Project.toml`\n",
      "\u001b[32m\u001b[1m  No Changes\u001b[22m\u001b[39m to `~/Desktop/SAM/Manifest.toml`\n"
     ]
    }
   ],
   "source": [
    "import Pkg\n",
    "Pkg.activate(\"/Users/alessiogiorlandino/Desktop/SAM/Project.toml\")\n",
    "Pkg.resolve()"
   ]
  },
  {
   "cell_type": "code",
   "execution_count": 4,
   "id": "a716194a-46c3-4fcb-9284-925c272a01be",
   "metadata": {
    "tags": []
   },
   "outputs": [
    {
     "name": "stderr",
     "output_type": "stream",
     "text": [
      "\u001b[32m\u001b[1m    CondaPkg \u001b[22m\u001b[39m\u001b[0mFound dependencies: /Users/alessiogiorlandino/.julia/packages/Logomaker/DdglG/CondaPkg.toml\n"
     ]
    },
    {
     "name": "stderr",
     "output_type": "stream",
     "text": [
      "\u001b[32m\u001b[1m    CondaPkg \u001b[22m\u001b[39m\u001b[0mFound dependencies: /Users/alessiogiorlandino/.julia/packages/PythonCall/dsECZ/CondaPkg.toml\n"
     ]
    },
    {
     "name": "stderr",
     "output_type": "stream",
     "text": [
      "\u001b[32m\u001b[1m    CondaPkg \u001b[22m\u001b[39m\u001b[0mDependencies already up to date\n"
     ]
    }
   ],
   "source": [
    "import SamApp\n",
    "import Infernal, Rfam, FASTX\n",
    "using BioSequences: LongRNA"
   ]
  },
  {
   "cell_type": "code",
   "execution_count": null,
   "id": "4a4f89dc-bbb4-4e0c-9d1e-530831312c73",
   "metadata": {},
   "outputs": [],
   "source": [
    "# CM model from Rfam (this has the noisy floor!)\n",
    "Rfam_cm = Infernal.cmfetch(Rfam.cm(), \"RF00162\");"
   ]
  },
  {
   "cell_type": "code",
   "execution_count": null,
   "id": "c4d64600-4b70-4d25-be0c-f4ba3e5c863c",
   "metadata": {
    "tags": []
   },
   "outputs": [],
   "source": [
    "# emit sequences from Rfam CM model\n",
    "Rfam_cm_emitted_sequences_afa = Infernal.cmemit(Infernal.cmfetch(Rfam.cm(), \"RF00162\").out; N=10000, aligned=true, outformat=\"AFA\");\n",
    "Rfam_cm_emitted_sequences = FASTX.sequence.(FASTX.FASTA.Reader(open(Rfam_cm_emitted_sequences_afa.out)));\n",
    "# remove inserts\n",
    "Rfam_cm_emitted_sequences = [filter(!=('.'), filter(!islowercase, seq)) for seq in Rfam_cm_emitted_sequences];\n",
    "@assert only(unique(length.(Rfam_cm_emitted_sequences))) == 108\n",
    "Rfam_cm_emitted_sequences = LongRNA{4}.(Rfam_cm_emitted_sequences);"
   ]
  },
  {
   "cell_type": "code",
   "execution_count": null,
   "id": "21057df3-7ccb-4ac3-a8f0-cc34526cbfc8",
   "metadata": {
    "tags": []
   },
   "outputs": [],
   "source": [
    "# aligned hits, used to train a Refined CM model (in Stockholm format, without inserts!)\n",
    "RF00162_hits_stk = Infernal.cmalign(Infernal.cmfetch(Rfam.cm(), \"RF00162\").out, Rfam.fasta_file(\"RF00162\"); matchonly=true);\n",
    "# fit refined CM model using full alignment (without inserts), and without entropic noise\n",
    "Refined_cm = Infernal.cmbuild(RF00162_hits_stk.out; enone=true);\n",
    "\n",
    "# emit sequences from Refined CM model\n",
    "Refined_cm_emitted_sequences_afa = Infernal.cmemit(Refined_cm.cmout; N=10000, aligned=true, outformat=\"AFA\");\n",
    "Refined_cm_emitted_sequences = FASTX.sequence.(FASTX.FASTA.Reader(open(Refined_cm_emitted_sequences_afa.out)));\n",
    "# remove inserts\n",
    "Refined_cm_emitted_sequences = [filter(!=('.'), filter(!islowercase, seq)) for seq in Refined_cm_emitted_sequences];\n",
    "@assert only(unique(length.(Refined_cm_emitted_sequences))) == 108\n",
    "Refined_cm_emitted_sequences = LongRNA{4}.(Refined_cm_emitted_sequences);"
   ]
  },
  {
   "cell_type": "code",
   "execution_count": null,
   "id": "1a18b835-7676-4a96-bdef-1e96ac8e1d6e",
   "metadata": {
    "tags": []
   },
   "outputs": [],
   "source": [
    "infernal_seq =SamApp.onehot(Refined_cm_emitted_sequences)"
   ]
  },
  {
   "cell_type": "code",
   "execution_count": null,
   "id": "026db1c0",
   "metadata": {},
   "outputs": [],
   "source": []
  }
 ],
 "metadata": {
  "kernelspec": {
   "display_name": "Julia 1.8.5",
   "language": "julia",
   "name": "julia-1.8"
  },
  "language_info": {
   "file_extension": ".jl",
   "mimetype": "application/julia",
   "name": "julia",
   "version": "1.8.5"
  }
 },
 "nbformat": 4,
 "nbformat_minor": 5
}
