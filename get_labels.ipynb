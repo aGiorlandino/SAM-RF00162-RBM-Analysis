{
 "cells": [
  {
   "cell_type": "code",
   "execution_count": null,
   "metadata": {},
   "outputs": [],
   "source": [
    "# Activate project\n",
    "using Pkg\n",
    "Pkg.activate(\"/Users/alessiogiorlandino/Desktop/SAM/Project.toml\")\n",
    "Base.active_project()\n",
    "# Resolve dependencies\n",
    "Pkg.resolve()"
   ]
  },
  {
   "cell_type": "code",
   "execution_count": 1,
   "metadata": {},
   "outputs": [
    {
     "name": "stderr",
     "output_type": "stream",
     "text": [
      "\u001b[32m\u001b[1m    CondaPkg \u001b[22m\u001b[39m\u001b[0mFound dependencies: /Users/alessiogiorlandino/.julia/packages/Logomaker/DdglG/CondaPkg.toml"
     ]
    },
    {
     "name": "stderr",
     "output_type": "stream",
     "text": [
      "\n"
     ]
    },
    {
     "name": "stderr",
     "output_type": "stream",
     "text": [
      "\u001b[32m\u001b[1m    CondaPkg \u001b[22m\u001b[39m\u001b[0mFound dependencies: /Users/alessiogiorlandino/.julia/packages/PythonCall/dsECZ/CondaPkg.toml\n"
     ]
    },
    {
     "name": "stderr",
     "output_type": "stream",
     "text": [
      "\u001b[32m\u001b[1m    CondaPkg \u001b[22m\u001b[39m\u001b[0mFound dependencies: /Users/alessiogiorlandino/.julia/packages/Logomaker/DdglG/CondaPkg.toml\n"
     ]
    },
    {
     "name": "stderr",
     "output_type": "stream",
     "text": [
      "\u001b[32m\u001b[1m    CondaPkg \u001b[22m\u001b[39m\u001b[0mFound dependencies: /Users/alessiogiorlandino/.julia/packages/PythonCall/dsECZ/CondaPkg.toml\n"
     ]
    },
    {
     "name": "stderr",
     "output_type": "stream",
     "text": [
      "\u001b[32m\u001b[1m    CondaPkg \u001b[22m\u001b[39m\u001b[0mDependencies already up to date\n"
     ]
    }
   ],
   "source": [
    "import Rfam, Infernal, Logomaker, FASTX\n",
    "using Optimisers: Adam\n",
    "using EllipsisNotation: (..)\n",
    "using FillArrays: Falses\n",
    "import Makie, CairoMakie\n",
    "using Makie: @colorant_str\n",
    "import SamApp\n",
    "using LinearAlgebra\n",
    "using Statistics\n",
    "\n",
    "using CSV\n",
    "using DataFrames\n",
    "\n",
    "using BioSequences: LongRNA, @rna_str\n",
    "using Statistics: mean, std, cor"
   ]
  },
  {
   "cell_type": "code",
   "execution_count": 31,
   "metadata": {},
   "outputs": [
    {
     "data": {
      "text/html": [
       "<div><div style = \"float: left;\"><span>81×2 DataFrame</span></div><div style = \"float: right;\"><span style = \"font-style: italic;\">56 rows omitted</span></div><div style = \"clear: both;\"></div></div><div class = \"data-frame\" style = \"overflow-x: scroll;\"><table class = \"data-frame\" style = \"margin-bottom: 6px;\"><thead><tr class = \"header\"><th class = \"rowNumber\" style = \"font-weight: bold; text-align: right;\">Row</th><th style = \"text-align: left;\">phylum</th><th style = \"text-align: left;\">count</th></tr><tr class = \"subheader headerLastRow\"><th class = \"rowNumber\" style = \"font-weight: bold; text-align: right;\"></th><th title = \"String\" style = \"text-align: left;\">String</th><th title = \"Int64\" style = \"text-align: left;\">Int64</th></tr></thead><tbody><tr><td class = \"rowNumber\" style = \"font-weight: bold; text-align: right;\">1</td><td style = \"text-align: left;\">Bacillota</td><td style = \"text-align: right;\">3679</td></tr><tr><td class = \"rowNumber\" style = \"font-weight: bold; text-align: right;\">2</td><td style = \"text-align: left;\">Bacteroidota</td><td style = \"text-align: right;\">854</td></tr><tr><td class = \"rowNumber\" style = \"font-weight: bold; text-align: right;\">3</td><td style = \"text-align: left;\">Actinomycetota</td><td style = \"text-align: right;\">691</td></tr><tr><td class = \"rowNumber\" style = \"font-weight: bold; text-align: right;\">4</td><td style = \"text-align: left;\">Pseudomonadota</td><td style = \"text-align: right;\">187</td></tr><tr><td class = \"rowNumber\" style = \"font-weight: bold; text-align: right;\">5</td><td style = \"text-align: left;\">Chloroflexi</td><td style = \"text-align: right;\">142</td></tr><tr><td class = \"rowNumber\" style = \"font-weight: bold; text-align: right;\">6</td><td style = \"text-align: left;\">Firmicutes</td><td style = \"text-align: right;\">84</td></tr><tr><td class = \"rowNumber\" style = \"font-weight: bold; text-align: right;\">7</td><td style = \"text-align: left;\">Fusobacteria</td><td style = \"text-align: right;\">43</td></tr><tr><td class = \"rowNumber\" style = \"font-weight: bold; text-align: right;\">8</td><td style = \"text-align: left;\">Deinococcus-Thermus</td><td style = \"text-align: right;\">38</td></tr><tr><td class = \"rowNumber\" style = \"font-weight: bold; text-align: right;\">9</td><td style = \"text-align: left;\">other</td><td style = \"text-align: right;\">33</td></tr><tr><td class = \"rowNumber\" style = \"font-weight: bold; text-align: right;\">10</td><td style = \"text-align: left;\">Tenericutes</td><td style = \"text-align: right;\">29</td></tr><tr><td class = \"rowNumber\" style = \"font-weight: bold; text-align: right;\">11</td><td style = \"text-align: left;\">Acidobacteria</td><td style = \"text-align: right;\">25</td></tr><tr><td class = \"rowNumber\" style = \"font-weight: bold; text-align: right;\">12</td><td style = \"text-align: left;\">Planctomycetota</td><td style = \"text-align: right;\">24</td></tr><tr><td class = \"rowNumber\" style = \"font-weight: bold; text-align: right;\">13</td><td style = \"text-align: left;\">Chlorobi</td><td style = \"text-align: right;\">21</td></tr><tr><td style = \"text-align: right;\">&vellip;</td><td style = \"text-align: right;\">&vellip;</td><td style = \"text-align: right;\">&vellip;</td></tr><tr><td class = \"rowNumber\" style = \"font-weight: bold; text-align: right;\">70</td><td style = \"text-align: left;\">Candidatus Wolfebacteria</td><td style = \"text-align: right;\">1</td></tr><tr><td class = \"rowNumber\" style = \"font-weight: bold; text-align: right;\">71</td><td style = \"text-align: left;\">Candidatus Liptonbacteria</td><td style = \"text-align: right;\">1</td></tr><tr><td class = \"rowNumber\" style = \"font-weight: bold; text-align: right;\">72</td><td style = \"text-align: left;\">Candidatus Nealsonbacteria</td><td style = \"text-align: right;\">1</td></tr><tr><td class = \"rowNumber\" style = \"font-weight: bold; text-align: right;\">73</td><td style = \"text-align: left;\">Candidatus Jorgensenbacteria</td><td style = \"text-align: right;\">1</td></tr><tr><td class = \"rowNumber\" style = \"font-weight: bold; text-align: right;\">74</td><td style = \"text-align: left;\">Candidatus Berkelbacteria</td><td style = \"text-align: right;\">1</td></tr><tr><td class = \"rowNumber\" style = \"font-weight: bold; text-align: right;\">75</td><td style = \"text-align: left;\">Candidatus Giovannonibacteria</td><td style = \"text-align: right;\">1</td></tr><tr><td class = \"rowNumber\" style = \"font-weight: bold; text-align: right;\">76</td><td style = \"text-align: left;\">Candidatus Harrisonbacteria</td><td style = \"text-align: right;\">1</td></tr><tr><td class = \"rowNumber\" style = \"font-weight: bold; text-align: right;\">77</td><td style = \"text-align: left;\">Candidatus Adlerbacteria</td><td style = \"text-align: right;\">1</td></tr><tr><td class = \"rowNumber\" style = \"font-weight: bold; text-align: right;\">78</td><td style = \"text-align: left;\">Candidatus Beckwithbacteria</td><td style = \"text-align: right;\">1</td></tr><tr><td class = \"rowNumber\" style = \"font-weight: bold; text-align: right;\">79</td><td style = \"text-align: left;\">Candidatus Ryanbacteria</td><td style = \"text-align: right;\">1</td></tr><tr><td class = \"rowNumber\" style = \"font-weight: bold; text-align: right;\">80</td><td style = \"text-align: left;\">candidate division CPR2</td><td style = \"text-align: right;\">1</td></tr><tr><td class = \"rowNumber\" style = \"font-weight: bold; text-align: right;\">81</td><td style = \"text-align: left;\">Coprothermobacterota</td><td style = \"text-align: right;\">1</td></tr></tbody></table></div>"
      ],
      "text/latex": [
       "\\begin{tabular}{r|cc}\n",
       "\t& phylum & count\\\\\n",
       "\t\\hline\n",
       "\t& String & Int64\\\\\n",
       "\t\\hline\n",
       "\t1 & Bacillota & 3679 \\\\\n",
       "\t2 & Bacteroidota & 854 \\\\\n",
       "\t3 & Actinomycetota & 691 \\\\\n",
       "\t4 & Pseudomonadota & 187 \\\\\n",
       "\t5 & Chloroflexi & 142 \\\\\n",
       "\t6 & Firmicutes & 84 \\\\\n",
       "\t7 & Fusobacteria & 43 \\\\\n",
       "\t8 & Deinococcus-Thermus & 38 \\\\\n",
       "\t9 & other & 33 \\\\\n",
       "\t10 & Tenericutes & 29 \\\\\n",
       "\t11 & Acidobacteria & 25 \\\\\n",
       "\t12 & Planctomycetota & 24 \\\\\n",
       "\t13 & Chlorobi & 21 \\\\\n",
       "\t14 & Actinobacteria & 17 \\\\\n",
       "\t15 & Synergistetes & 15 \\\\\n",
       "\t16 & Viridiplantae & 12 \\\\\n",
       "\t17 & Bacteroidetes & 12 \\\\\n",
       "\t18 & Ignavibacteriae & 11 \\\\\n",
       "\t19 & Candidatus Saccharibacteria & 11 \\\\\n",
       "\t20 & Candidatus Kaiserbacteria & 10 \\\\\n",
       "\t21 & Candidatus Nomurabacteria & 9 \\\\\n",
       "\t22 & Cyanobacteria & 8 \\\\\n",
       "\t23 & Candidatus Yanofskybacteria & 8 \\\\\n",
       "\t24 & Verrucomicrobia & 7 \\\\\n",
       "\t$\\dots$ & $\\dots$ & $\\dots$ \\\\\n",
       "\\end{tabular}\n"
      ],
      "text/plain": [
       "\u001b[1m81×2 DataFrame\u001b[0m\n",
       "\u001b[1m Row \u001b[0m│\u001b[1m phylum                        \u001b[0m\u001b[1m count \u001b[0m\n",
       "     │\u001b[90m String                        \u001b[0m\u001b[90m Int64 \u001b[0m\n",
       "─────┼──────────────────────────────────────\n",
       "   1 │ Bacillota                       3679\n",
       "   2 │ Bacteroidota                     854\n",
       "   3 │ Actinomycetota                   691\n",
       "   4 │ Pseudomonadota                   187\n",
       "   5 │ Chloroflexi                      142\n",
       "   6 │ Firmicutes                        84\n",
       "   7 │ Fusobacteria                      43\n",
       "   8 │ Deinococcus-Thermus               38\n",
       "  ⋮  │               ⋮                  ⋮\n",
       "  75 │ Candidatus Giovannonibacteria      1\n",
       "  76 │ Candidatus Harrisonbacteria        1\n",
       "  77 │ Candidatus Adlerbacteria           1\n",
       "  78 │ Candidatus Beckwithbacteria        1\n",
       "  79 │ Candidatus Ryanbacteria            1\n",
       "  80 │ candidate division CPR2            1\n",
       "  81 │ Coprothermobacterota               1\n",
       "\u001b[36m                             66 rows omitted\u001b[0m"
      ]
     },
     "metadata": {},
     "output_type": "display_data"
    }
   ],
   "source": [
    "MSA_df=SamApp.rf00162_hits_taxonomy()\n",
    "sp_taxonomy = split.(MSA_df[:,\"taxonomy\"], \"; \")\n",
    "phyla = fill(\"other\", length(sp_taxonomy))\n",
    "for i in 1:length(sp_taxonomy)\n",
    "    if length(sp_taxonomy[i]) >= 2\n",
    "        phyla[i] = sp_taxonomy[i][2]  \n",
    "    end\n",
    "end\n",
    "MSA_df[!,:phylum] = phyla\n",
    "counts = sort!(combine(groupby(MSA_df, :phylum), :phylum => length => :count), :count, rev=true)\n"
   ]
  },
  {
   "cell_type": "code",
   "execution_count": 49,
   "metadata": {},
   "outputs": [],
   "source": [
    "for j in 1:nrow(MSA_df)\n",
    "    if counts.count[findall(counts.phylum.== MSA_df[j, :phylum])][1] < 150 \n",
    "        MSA_df[!, :phylum][j] = \"other\"\n",
    "    end\n",
    "end\n",
    "\n",
    "label_file = open(\"labels.txt\",\"w+\")\n",
    "#write(label_file, \"#$(counts.phylum)\\n\")\n",
    "#labels: [\"Bacillota\", \"Bacteroidota\", \"Actinomycetota\", \"other\", \"Pseudomonadota\", \"Chloroflexi\"]\n",
    "for label in MSA_df.phylum\n",
    "    println(label_file, label)\n",
    "end\n",
    "close(label_file)"
   ]
  }
 ],
 "metadata": {
  "kernelspec": {
   "display_name": "Julia 1.8.5",
   "language": "julia",
   "name": "julia-1.8"
  },
  "language_info": {
   "file_extension": ".jl",
   "mimetype": "application/julia",
   "name": "julia",
   "version": "1.8.5"
  },
  "orig_nbformat": 4
 },
 "nbformat": 4,
 "nbformat_minor": 2
}
