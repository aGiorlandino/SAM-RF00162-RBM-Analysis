{
 "cells": [
  {
   "cell_type": "code",
   "execution_count": 49,
   "metadata": {},
   "outputs": [
    {
     "name": "stderr",
     "output_type": "stream",
     "text": [
      "\u001b[32m\u001b[1m  Activating\u001b[22m\u001b[39m project at `~/Desktop/SAM`\n"
     ]
    },
    {
     "name": "stderr",
     "output_type": "stream",
     "text": [
      "\u001b[32m\u001b[1m  No Changes\u001b[22m\u001b[39m to `~/Desktop/SAM/Project.toml`\n",
      "\u001b[32m\u001b[1m  No Changes\u001b[22m\u001b[39m to `~/Desktop/SAM/Manifest.toml`\n"
     ]
    }
   ],
   "source": [
    "# Activate project\n",
    "using Pkg\n",
    "Pkg.activate(\"/Users/alessiogiorlandino/Desktop/SAM/Project.toml\")\n",
    "Base.active_project()\n",
    "# Resolve dependencies\n",
    "Pkg.resolve()"
   ]
  },
  {
   "cell_type": "code",
   "execution_count": 50,
   "metadata": {},
   "outputs": [],
   "source": [
    "using EllipsisNotation: (..)\n",
    "using FillArrays: Falses\n",
    "import Makie, CairoMakie\n",
    "using Makie: @colorant_str\n",
    "import SamApp\n",
    "using LinearAlgebra\n",
    "using Statistics\n",
    "\n",
    "using CSV\n",
    "using DataFrames\n",
    "\n",
    "using BioSequences: LongRNA, @rna_str\n",
    "using Statistics: mean, std, cor"
   ]
  },
  {
   "cell_type": "code",
   "execution_count": 51,
   "metadata": {},
   "outputs": [
    {
     "data": {
      "text/html": [
       "<div><div style = \"float: left;\"><span>6112×4 DataFrame</span></div><div style = \"float: right;\"><span style = \"font-style: italic;\">6087 rows omitted</span></div><div style = \"clear: both;\"></div></div><div class = \"data-frame\" style = \"overflow-x: scroll;\"><table class = \"data-frame\" style = \"margin-bottom: 6px;\"><thead><tr class = \"header\"><th class = \"rowNumber\" style = \"font-weight: bold; text-align: right;\">Row</th><th style = \"text-align: left;\">id</th><th style = \"text-align: left;\">sequence</th><th style = \"text-align: left;\">organism</th><th style = \"text-align: left;\">taxonomy</th></tr><tr class = \"subheader headerLastRow\"><th class = \"rowNumber\" style = \"font-weight: bold; text-align: right;\"></th><th title = \"String31\" style = \"text-align: left;\">String31</th><th title = \"String\" style = \"text-align: left;\">String</th><th title = \"String\" style = \"text-align: left;\">String</th><th title = \"String\" style = \"text-align: left;\">String</th></tr></thead><tbody><tr><td class = \"rowNumber\" style = \"font-weight: bold; text-align: right;\">1</td><td style = \"text-align: left;\">CM000733.1/548881-548775</td><td style = \"text-align: left;\">CUCUUAUCAAGAGAGGUGGAGGGAUCGGCCCUAUGAAACCUCGGCAACCCCUAUUUUAUUUAGGAAGGUGCCAAUUCCUUUAGAAUUU-AAAUUCUAAAAGAUAAGAA</td><td style = \"text-align: left;\">Bacillus cereus Rock3-44</td><td style = \"text-align: left;\">Bacteria; Bacillota; Bacilli; Bacillales; Bacillaceae; Bacillus; Bacillus cereus group</td></tr><tr><td class = \"rowNumber\" style = \"font-weight: bold; text-align: right;\">2</td><td style = \"text-align: left;\">MLYR01000084.1/7469-7577</td><td style = \"text-align: left;\">UUCUUAUCCAGAGAGGUGGAGGGACUGGCCCUGCGAAACCUCAGCAACCCCUGAUGAUUUCAGGAAGGUGCUAAUUCCAACAGAGUUGACAACUCUGGGAGAUAAGAG</td><td style = \"text-align: left;\">Bacillus sp. MUM 116</td><td style = \"text-align: left;\">Bacteria; Bacillota; Bacilli; Bacillales; Bacillaceae; Bacillus</td></tr><tr><td class = \"rowNumber\" style = \"font-weight: bold; text-align: right;\">3</td><td style = \"text-align: left;\">AZTB01000003.1/66821-66716</td><td style = \"text-align: left;\">CUCUUAUCUAGAGAGGUGGAGGGACUGGCCCUAUGAAACC-CGGCAACCUGUGUUUUAAACACAA-GGUGCCAAUUCCUGCGGUAUAAGAUAUACCGAGAGAUGAGAG</td><td style = \"text-align: left;\">Caloranaerobacter azorensis H53214</td><td style = \"text-align: left;\">Bacteria; Bacillota; Tissierellia; Tissierellales; Thermohalobacteraceae; Caloranaerobacter</td></tr><tr><td class = \"rowNumber\" style = \"font-weight: bold; text-align: right;\">4</td><td style = \"text-align: left;\">LOED01000010.1/15598-15489</td><td style = \"text-align: left;\">UUCUUAUCAAGAGCGGUGGAGGGACUGGCCCAAUGAAACC-CGGCAACCCGCAUCGUAGAUGCGAAGGUGCCAAUUCCUGCAGGACGAAAUGUCCUGAGAGAUAAGAA</td><td style = \"text-align: left;\">Fervidicola ferrireducens</td><td style = \"text-align: left;\">Bacteria; Bacillota; Clostridia; Thermosediminibacterales; Thermosediminibacteraceae; Fervidicola</td></tr><tr><td class = \"rowNumber\" style = \"font-weight: bold; text-align: right;\">5</td><td style = \"text-align: left;\">CP007739.1/1700701-1700817</td><td style = \"text-align: left;\">UUCUUAUCAAGAGAGGUCGAGGGAAUGGCCCAAUGAAGCCUCAGCAACCUUCAAUGUCAUUGAAAAGGUGCUAAUUCCAGCAAGUUCAUUUAACUUGAAAGAUAAGAA</td><td style = \"text-align: left;\">Bacillus methanolicus MGA3</td><td style = \"text-align: left;\">Bacteria; Bacillota; Bacilli; Bacillales; Bacillaceae; Bacillus</td></tr><tr><td class = \"rowNumber\" style = \"font-weight: bold; text-align: right;\">6</td><td style = \"text-align: left;\">CP020772.1/4059248-4059357</td><td style = \"text-align: left;\">UUCUUAUCAAGAGAGGCAGAGGGACUGGCCCUGUGAAGCCUCAGCAACCACUGGUAGAUCCAGUAAGGUGCUACGUCCAGCAAGUUGUGACAACUUGGAAGAUAAGAA</td><td style = \"text-align: left;\">Halobacillus mangrovi</td><td style = \"text-align: left;\">Bacteria; Bacillota; Bacilli; Bacillales; Bacillaceae; Halobacillus</td></tr><tr><td class = \"rowNumber\" style = \"font-weight: bold; text-align: right;\">7</td><td style = \"text-align: left;\">JRNX01000191.1/6612-6721</td><td style = \"text-align: left;\">UUCUUAUCAAGAGAGGCAGAGGGACUGGCCCUGUGAAGCCUCAGCAACCACUGGUAUAUCCAGUAAGGUGCUACGUCCAGCAAGUUGUAACAACUUGGAAGAUGAGAA</td><td style = \"text-align: left;\">Halobacillus sp. BBL2006</td><td style = \"text-align: left;\">Bacteria; Bacillota; Bacilli; Bacillales; Bacillaceae; Halobacillus</td></tr><tr><td class = \"rowNumber\" style = \"font-weight: bold; text-align: right;\">8</td><td style = \"text-align: left;\">LFXJ01000010.1/73373-73267</td><td style = \"text-align: left;\">CUCUUAUCAAGAGUAGCUGAGGGACUGGCCCUAUGAAGCU-CGGCAACCUCCUUUUUUUUAAGGAAGGUGCUAAAUCCUGCAAACGAUAAUCGUUUGAAAGAUAAGAG</td><td style = \"text-align: left;\">Lysinibacillus xylanilyticus</td><td style = \"text-align: left;\">Bacteria; Bacillota; Bacilli; Bacillales; Bacillaceae; Lysinibacillus</td></tr><tr><td class = \"rowNumber\" style = \"font-weight: bold; text-align: right;\">9</td><td style = \"text-align: left;\">KI629782.1/602788-602686</td><td style = \"text-align: left;\">CUCUUAUCCAGAGAGGCAGAGGGACUGGCCCGAUGAAGCCUCGGCAACCGGAAUAA--A-AUUC--GGUGCCAAUUCCAGCAAAGCGCUUUGCUUUGAAAGAUAAGAG</td><td style = \"text-align: left;\">Brevibacillus panacihumi W25</td><td style = \"text-align: left;\">Bacteria; Bacillota; Bacilli; Bacillales; Paenibacillaceae; Brevibacillus</td></tr><tr><td class = \"rowNumber\" style = \"font-weight: bold; text-align: right;\">10</td><td style = \"text-align: left;\">ASQA01000013.1/163414-163521</td><td style = \"text-align: left;\">UUCUUAUCAAGAGAAGCAGAGGGAAAGGCCCUGUGAAGCUUCAGCAACCUCUGAUUUAAUCAGAAAGGUGCUAAGUCCUACAAGACAA-AAGUCUUGGAAGAUAAGAA</td><td style = \"text-align: left;\">Viridibacillus arenosi FSL R5-213</td><td style = \"text-align: left;\">Bacteria; Bacillota; Bacilli; Bacillales; Planococcaceae; Viridibacillus</td></tr><tr><td class = \"rowNumber\" style = \"font-weight: bold; text-align: right;\">11</td><td style = \"text-align: left;\">CP013659.2/266118-266225</td><td style = \"text-align: left;\">AUCUUAUCCAGAGAAGCCGAGGGACUGGCCCGAUGACGCUUCAGCAACCCCUGAUUUAAUCAGGAAGGUGCUACUUCCAGCAAGGAGAGAUUCCUUGGGAGAUAAGAG</td><td style = \"text-align: left;\">Planococcus rifietoensis</td><td style = \"text-align: left;\">Bacteria; Bacillota; Bacilli; Bacillales; Planococcaceae; Planococcus</td></tr><tr><td class = \"rowNumber\" style = \"font-weight: bold; text-align: right;\">12</td><td style = \"text-align: left;\">FQVW01000032.1/3335-3447</td><td style = \"text-align: left;\">CUCUUAUCCAGAGUGGUGGAGGGAAAGGCCCUACGAAACCACGGCAACCUACAAACAUUUUGGAAAGGUGCCAAAUCCUGCGAAGCGUUAUGCUUUGAAAGAUGAGAG</td><td style = \"text-align: left;\">Ornithinibacillus halophilus</td><td style = \"text-align: left;\">Bacteria; Bacillota; Bacilli; Bacillales; Bacillaceae; Ornithinibacillus</td></tr><tr><td class = \"rowNumber\" style = \"font-weight: bold; text-align: right;\">13</td><td style = \"text-align: left;\">JPVO01000053.1/138809-138918</td><td style = \"text-align: left;\">AUCUUAUCAAGAGAAGCAGAGGGAAUGGCCCGAUGAAGCUUCAGCAACCUCUAACAUCGUUAGAAAGGUGCUAAUUCCAGCAAGACAUAAGGUCUUGGGAGAUAAGAG</td><td style = \"text-align: left;\">Ureibacillus sinduriensis BLB-1 = JCM 15800</td><td style = \"text-align: left;\">Bacteria; Bacillota; Bacilli; Bacillales; Planococcaceae; Ureibacillus</td></tr><tr><td style = \"text-align: right;\">&vellip;</td><td style = \"text-align: right;\">&vellip;</td><td style = \"text-align: right;\">&vellip;</td><td style = \"text-align: right;\">&vellip;</td><td style = \"text-align: right;\">&vellip;</td></tr><tr><td class = \"rowNumber\" style = \"font-weight: bold; text-align: right;\">6101</td><td style = \"text-align: left;\">CP001867.1/829496-829625</td><td style = \"text-align: left;\">CACUCAUCCAGAGGGGCAGAGGGAACGGCCCGACGAAGCCCCGGCAACCCCGCACCGCCAGCGGAAGGUGCCAAUUCCGUCCCGCGCGGC-UGCGGGGAAGAUGAGGA</td><td style = \"text-align: left;\">Geodermatophilus obscurus DSM 43160</td><td style = \"text-align: left;\">Bacteria; Actinomycetota; Geodermatophilales; Geodermatophilaceae; Geodermatophilus</td></tr><tr><td class = \"rowNumber\" style = \"font-weight: bold; text-align: right;\">6102</td><td style = \"text-align: left;\">ACLF03000006.1/44662-44769</td><td style = \"text-align: left;\">CACUCAUCACGAGGGGUGGAGGGAACGGCCCGCUGAUACCCCAGCAACCAGUCGGUCUUCGACCA-GGUGCUACGUCCGUCCCGGAGUCCGUCCGGGGAAGAUGACCU</td><td style = \"text-align: left;\">Aeromicrobium marinum DSM 15272</td><td style = \"text-align: left;\">Bacteria; Actinomycetota; Propionibacteriales; Nocardioidaceae; Aeromicrobium</td></tr><tr><td class = \"rowNumber\" style = \"font-weight: bold; text-align: right;\">6103</td><td style = \"text-align: left;\">CP003056.1/732327-732208</td><td style = \"text-align: left;\">UUCUUAUCAAGAGAGGUUGAGGGAAUGGCCCGAUGAAGCCUCAGCAACCUUCAAUGCUAUUGAAAAGGUGCUAAGUCCUGCAAGUUAUGGGAACUUGAAAGAUAAGAA</td><td style = \"text-align: left;\">Weizmannia coagulans 36D1</td><td style = \"text-align: left;\">Bacteria; Bacillota; Bacilli; Bacillales; Bacillaceae; Weizmannia</td></tr><tr><td class = \"rowNumber\" style = \"font-weight: bold; text-align: right;\">6104</td><td style = \"text-align: left;\">CP001823.1/1231295-1231405</td><td style = \"text-align: left;\">CUCUUAUCCAGAGUGGUGGAGGGAACGGCCCGACGAAGCC-CGGCAACCACGGAUCGCGUCCGCGCGGUGCCAAUUCCGGCAGCGGCGUUGCCGCUGAGAGAUGAGAG</td><td style = \"text-align: left;\">Sphaerobacter thermophilus DSM 20745</td><td style = \"text-align: left;\">Bacteria; Chloroflexi; Sphaerobacteridae; Sphaerobacterales; Sphaerobacterineae; Sphaerobacteraceae; Sphaerobacter</td></tr><tr><td class = \"rowNumber\" style = \"font-weight: bold; text-align: right;\">6105</td><td style = \"text-align: left;\">CP001769.1/5132553-5132446</td><td style = \"text-align: left;\">UACUUAUCCAGAAAGACGGAGGGACGGACCCGAUGAUGUCUUGGCAACCAACCAGCCCAGGGGAAUGGUGCCAAUUUCCUCCCGCCAG-CCAGCGGGGUAGAUAAGGU</td><td style = \"text-align: left;\">Spirosoma linguale DSM 74</td><td style = \"text-align: left;\">Bacteria; Bacteroidota; Cytophagia; Cytophagales; Cytophagaceae; Spirosoma</td></tr><tr><td class = \"rowNumber\" style = \"font-weight: bold; text-align: right;\">6106</td><td style = \"text-align: left;\">ACCL02000003.1/136176-136276</td><td style = \"text-align: left;\">CUCUUAUUCAGAGUGGUGGAGAUAGAGGGUCUGUGAAGCCACGGCAACCCCGCAUA---GACGGAAGGUGCCAGCCUGAGCGAUU------AAUUCGAACAAUAAGAG</td><td style = \"text-align: left;\">Marvinbryantia formatexigens DSM 14469</td><td style = \"text-align: left;\">Bacteria; Bacillota; Clostridia; Eubacteriales; Lachnospiraceae; Marvinbryantia</td></tr><tr><td class = \"rowNumber\" style = \"font-weight: bold; text-align: right;\">6107</td><td style = \"text-align: left;\">ACKQ02000002.1/742513-742620</td><td style = \"text-align: left;\">AUGUUAUCAAGAAAGGUUGAGGGAUAGACCCUGUGAAACCUUAGCAACCCUUUGCGCAGUAAAGAAGGUGCUACGUUCUACCAAAA--UAAUUUUGGACAGAUAACUU</td><td style = \"text-align: left;\">Chryseobacterium gleum ATCC 35910</td><td style = \"text-align: left;\">Bacteria; Bacteroidota; Flavobacteriia; Flavobacteriales; Weeksellaceae; Chryseobacterium group; Chryseobacterium</td></tr><tr><td class = \"rowNumber\" style = \"font-weight: bold; text-align: right;\">6108</td><td style = \"text-align: left;\">ACIQ02000024.1/9596-9700</td><td style = \"text-align: left;\">AUCUUAUUCAGAGCGGUGGAGCUAUAGGAGCGAAGAAGCCGCAGCAACCCCGGAA-----ACGGAAGGUGCUAACCUGAGCGAACA-AUUUGUUUCGAACAAUAAGAC</td><td style = \"text-align: left;\">Oribacterium sp. oral taxon 078 str. F0262</td><td style = \"text-align: left;\">Bacteria; Bacillota; Clostridia; Eubacteriales; Lachnospiraceae; Oribacterium</td></tr><tr><td class = \"rowNumber\" style = \"font-weight: bold; text-align: right;\">6109</td><td style = \"text-align: left;\">ACHA02000006.1/124772-124667</td><td style = \"text-align: left;\">CGCUUAUAGAGAAAGGCAGAGGGAUAGACCCAAUGAAGCCUUGGCAACCUGUCUUG--GAGAC-AAGGUGCUACAUUCUACCCCACCUAAAAAAGGGAAAGAUAAGCG</td><td style = \"text-align: left;\">Sphingobacterium spiritivorum ATCC 33861</td><td style = \"text-align: left;\">Bacteria; Bacteroidota; Sphingobacteriia; Sphingobacteriales; Sphingobacteriaceae; Sphingobacterium</td></tr><tr><td class = \"rowNumber\" style = \"font-weight: bold; text-align: right;\">6110</td><td style = \"text-align: left;\">CP001630.1/1349393-1349277</td><td style = \"text-align: left;\">CGCUCAUCCAGAGGGGCAGAGGGAUCGGCCCGAAGAAGCCCCGGCAACCUGUCACCAGGUGAUCACGGUGCCAAUUCCGACCCGC---GAAAGCGGGAAAGAUGAGGA</td><td style = \"text-align: left;\">Actinosynnema mirum DSM 43827</td><td style = \"text-align: left;\">Bacteria; Actinomycetota; Pseudonocardiales; Pseudonocardiaceae; Actinosynnema</td></tr><tr><td class = \"rowNumber\" style = \"font-weight: bold; text-align: right;\">6111</td><td style = \"text-align: left;\">CP001661.1/2331226-2331122</td><td style = \"text-align: left;\">AACUUAUCACGAGCGACCGAGGGACUGGCCCCAUGACGUCGCGGCAACCUCCCGUA---AGGGA-AGGUGCCAAAUCCAGCGAAGCGGCGAGCUUCGGAAGAUAAGGA</td><td style = \"text-align: left;\">Geobacter sp. M21</td><td style = \"text-align: left;\">Bacteria; Proteobacteria; Deltaproteobacteria; Desulfuromonadales; Geobacteraceae; Geobacter; unclassified Geobacter</td></tr><tr><td class = \"rowNumber\" style = \"font-weight: bold; text-align: right;\">6112</td><td style = \"text-align: left;\">CP002043.1/113014-112896</td><td style = \"text-align: left;\">GUCUUAUCCAGAGCAGCGGAGGGAACGGCCCUGUGAAGCUGCGGCAACCUGCGG------UACUAAGGUGCCAAUUCCGACCCGGUGGCCAUCCGGGAAAGAUAAGGA</td><td style = \"text-align: left;\">Meiothermus silvanus DSM 9946</td><td style = \"text-align: left;\">Bacteria; Deinococcus-Thermus; Deinococci; Thermales; Thermaceae; Meiothermus</td></tr></tbody></table></div>"
      ],
      "text/latex": [
       "\\begin{tabular}{r|ccc}\n",
       "\t& id & sequence & \\\\\n",
       "\t\\hline\n",
       "\t& String31 & String & \\\\\n",
       "\t\\hline\n",
       "\t1 & CM000733.1/548881-548775 & CUCUUAUCAAGAGAGGUGGAGGGAUCGGCCCUAUGAAACCUCGGCAACCCCUAUUUUAUUUAGGAAGGUGCCAAUUCCUUUAGAAUUU-AAAUUCUAAAAGAUAAGAA & $\\dots$ \\\\\n",
       "\t2 & MLYR01000084.1/7469-7577 & UUCUUAUCCAGAGAGGUGGAGGGACUGGCCCUGCGAAACCUCAGCAACCCCUGAUGAUUUCAGGAAGGUGCUAAUUCCAACAGAGUUGACAACUCUGGGAGAUAAGAG & $\\dots$ \\\\\n",
       "\t3 & AZTB01000003.1/66821-66716 & CUCUUAUCUAGAGAGGUGGAGGGACUGGCCCUAUGAAACC-CGGCAACCUGUGUUUUAAACACAA-GGUGCCAAUUCCUGCGGUAUAAGAUAUACCGAGAGAUGAGAG & $\\dots$ \\\\\n",
       "\t4 & LOED01000010.1/15598-15489 & UUCUUAUCAAGAGCGGUGGAGGGACUGGCCCAAUGAAACC-CGGCAACCCGCAUCGUAGAUGCGAAGGUGCCAAUUCCUGCAGGACGAAAUGUCCUGAGAGAUAAGAA & $\\dots$ \\\\\n",
       "\t5 & CP007739.1/1700701-1700817 & UUCUUAUCAAGAGAGGUCGAGGGAAUGGCCCAAUGAAGCCUCAGCAACCUUCAAUGUCAUUGAAAAGGUGCUAAUUCCAGCAAGUUCAUUUAACUUGAAAGAUAAGAA & $\\dots$ \\\\\n",
       "\t6 & CP020772.1/4059248-4059357 & UUCUUAUCAAGAGAGGCAGAGGGACUGGCCCUGUGAAGCCUCAGCAACCACUGGUAGAUCCAGUAAGGUGCUACGUCCAGCAAGUUGUGACAACUUGGAAGAUAAGAA & $\\dots$ \\\\\n",
       "\t7 & JRNX01000191.1/6612-6721 & UUCUUAUCAAGAGAGGCAGAGGGACUGGCCCUGUGAAGCCUCAGCAACCACUGGUAUAUCCAGUAAGGUGCUACGUCCAGCAAGUUGUAACAACUUGGAAGAUGAGAA & $\\dots$ \\\\\n",
       "\t8 & LFXJ01000010.1/73373-73267 & CUCUUAUCAAGAGUAGCUGAGGGACUGGCCCUAUGAAGCU-CGGCAACCUCCUUUUUUUUAAGGAAGGUGCUAAAUCCUGCAAACGAUAAUCGUUUGAAAGAUAAGAG & $\\dots$ \\\\\n",
       "\t9 & KI629782.1/602788-602686 & CUCUUAUCCAGAGAGGCAGAGGGACUGGCCCGAUGAAGCCUCGGCAACCGGAAUAA--A-AUUC--GGUGCCAAUUCCAGCAAAGCGCUUUGCUUUGAAAGAUAAGAG & $\\dots$ \\\\\n",
       "\t10 & ASQA01000013.1/163414-163521 & UUCUUAUCAAGAGAAGCAGAGGGAAAGGCCCUGUGAAGCUUCAGCAACCUCUGAUUUAAUCAGAAAGGUGCUAAGUCCUACAAGACAA-AAGUCUUGGAAGAUAAGAA & $\\dots$ \\\\\n",
       "\t11 & CP013659.2/266118-266225 & AUCUUAUCCAGAGAAGCCGAGGGACUGGCCCGAUGACGCUUCAGCAACCCCUGAUUUAAUCAGGAAGGUGCUACUUCCAGCAAGGAGAGAUUCCUUGGGAGAUAAGAG & $\\dots$ \\\\\n",
       "\t12 & FQVW01000032.1/3335-3447 & CUCUUAUCCAGAGUGGUGGAGGGAAAGGCCCUACGAAACCACGGCAACCUACAAACAUUUUGGAAAGGUGCCAAAUCCUGCGAAGCGUUAUGCUUUGAAAGAUGAGAG & $\\dots$ \\\\\n",
       "\t13 & JPVO01000053.1/138809-138918 & AUCUUAUCAAGAGAAGCAGAGGGAAUGGCCCGAUGAAGCUUCAGCAACCUCUAACAUCGUUAGAAAGGUGCUAAUUCCAGCAAGACAUAAGGUCUUGGGAGAUAAGAG & $\\dots$ \\\\\n",
       "\t14 & FTOC01000005.1/78406-78513 & CUCUUAUCCAGAGAGGUGGAGGGACUGGCCCUUUGAAACCUCGGCAACCAUCGUUAUAAGCGGAAUGGUGCCAAAUCCAGCAAAGCU-GAUGCUUUGAAAGAUAAGAG & $\\dots$ \\\\\n",
       "\t15 & LQYT01000032.1/10698-10803 & AUCUUAUCCAGAGAGGCGGAGGGACUGGCCCGGUGAAGCCUCAGCAACCAGCCGGAUUCCGGCCA-GGUGCUAAUUCCAGCAGAACUUC-UGUUCUGGAAGAUAAGAU & $\\dots$ \\\\\n",
       "\t16 & LDPH01000019.1/84638-84528 & UUCUUAUCAAGAGAGGUAGAGGGAAUGGCCCGACGAAACCUCAGCAACCUUCAGUAUCACUGAAAAGGUGCUAAUUCCAUCAAGCA---AAUGCUUGAAAGAUAAGAA & $\\dots$ \\\\\n",
       "\t17 & LWDV01000009.1/191001-190896 & CUCUUAUCAAGAGAGGUGGAGGGACUGGCCCAAUGAAGCC-CGGCAACCACCCCUAA-UGGGGAAAGGUGCCAAUUCCUGCAGAAGUAUAUCUUCUGGCAGAUAAGAG & $\\dots$ \\\\\n",
       "\t18 & AJLR01000045.1/173933-174039 & UUCUUAUCCAGAGAGGUGGAGGGACUGGCCCUAUGAAGCC-CGGCAACCGAUUUUUUAUAAAACACGGUGCCAAUUCCAACAGAGUAUAUUGCUCUGAAAGAUAAGUA & $\\dots$ \\\\\n",
       "\t19 & JPMD01000017.1/36678-36561 & CUCUUAUCAAGAGAGGUGGAGGGAUAGGCCCUAUGAAACCUCGGCAACCUUCAGACCCUCUGAAAAGGUGCCAAUUCCUACUCUAAUUUUAUUAGAGAAAGAUGAGAG & $\\dots$ \\\\\n",
       "\t20 & CP019698.1/2781434-2781540 & UUCUUAUCCAGAGUGGCUGAGGGACUGGCCCUGCGAAGCC-CGGCAACCUUCUUUACAUUAAGAAAGGUGCUAAUUCCUGCAGAAGGUAAUCUUCUGAAAGAUAAGAA & $\\dots$ \\\\\n",
       "\t21 & JPVN01000009.1/32438-32545 & AUCUUAUCAAGAGAAGCAGAGGGAAUGGCCCGUUGAAGCUUCAGCAACCUCUAACAUUGUUAGAAAGGUGCUAAUUCCAGCAAGACGUA-UGUCUUGAGAGAUAAGAG & $\\dots$ \\\\\n",
       "\t22 & CCRF01000092.1/13953-14058 & AUCUUAUCAAGAGAGGUUGAGGGACUGGCCCGAUGACGCCUCAGCAACCAGUCAUUUUUUGACCACGGUGCUAAUUCCAGCAGGUG--AAAUACCUGAAAGAUAAGAA & $\\dots$ \\\\\n",
       "\t23 & GL635750.1/106254-106148 & UUCUUAUCCAGAGAGGUGGAGGGACUGGCCCUGCGAAGCCUCAGCAACCCCUGAUUAUGUCAGGAAGGUGCUAAUUCCAACAGAGUU-GACGCUCUGGGAGAUAAGAG & $\\dots$ \\\\\n",
       "\t24 & LGKI01000256.1/242292-242404 & CUCUUAUCAAGAGCGGCGGAGGGACUGGCCCGAUGAAGCC-CGGCAACCUCGGUGAGACACCGGAAGGUGCCAAAUCCUGCAGAACAAAAAGUUCUGAGAGAUAAGAG & $\\dots$ \\\\\n",
       "\t$\\dots$ & $\\dots$ & $\\dots$ &  \\\\\n",
       "\\end{tabular}\n"
      ],
      "text/plain": [
       "\u001b[1m6112×4 DataFrame\u001b[0m\n",
       "\u001b[1m  Row \u001b[0m│\u001b[1m id                           \u001b[0m\u001b[1m sequence                          \u001b[0m\u001b[1m organ\u001b[0m ⋯\n",
       "      │\u001b[90m String31                     \u001b[0m\u001b[90m String                            \u001b[0m\u001b[90m Strin\u001b[0m ⋯\n",
       "──────┼─────────────────────────────────────────────────────────────────────────\n",
       "    1 │ CM000733.1/548881-548775      CUCUUAUCAAGAGAGGUGGAGGGAUCGGCCCU…  Bacil ⋯\n",
       "    2 │ MLYR01000084.1/7469-7577      UUCUUAUCCAGAGAGGUGGAGGGACUGGCCCU…  Bacil\n",
       "    3 │ AZTB01000003.1/66821-66716    CUCUUAUCUAGAGAGGUGGAGGGACUGGCCCU…  Calor\n",
       "    4 │ LOED01000010.1/15598-15489    UUCUUAUCAAGAGCGGUGGAGGGACUGGCCCA…  Fervi\n",
       "    5 │ CP007739.1/1700701-1700817    UUCUUAUCAAGAGAGGUCGAGGGAAUGGCCCA…  Bacil ⋯\n",
       "    6 │ CP020772.1/4059248-4059357    UUCUUAUCAAGAGAGGCAGAGGGACUGGCCCU…  Halob\n",
       "    7 │ JRNX01000191.1/6612-6721      UUCUUAUCAAGAGAGGCAGAGGGACUGGCCCU…  Halob\n",
       "    8 │ LFXJ01000010.1/73373-73267    CUCUUAUCAAGAGUAGCUGAGGGACUGGCCCU…  Lysin\n",
       "  ⋮   │              ⋮                                ⋮                        ⋱\n",
       " 6106 │ ACCL02000003.1/136176-136276  CUCUUAUUCAGAGUGGUGGAGAUAGAGGGUCU…  Marvi ⋯\n",
       " 6107 │ ACKQ02000002.1/742513-742620  AUGUUAUCAAGAAAGGUUGAGGGAUAGACCCU…  Chrys\n",
       " 6108 │ ACIQ02000024.1/9596-9700      AUCUUAUUCAGAGCGGUGGAGCUAUAGGAGCG…  Oriba\n",
       " 6109 │ ACHA02000006.1/124772-124667  CGCUUAUAGAGAAAGGCAGAGGGAUAGACCCA…  Sphin\n",
       " 6110 │ CP001630.1/1349393-1349277    CGCUCAUCCAGAGGGGCAGAGGGAUCGGCCCG…  Actin ⋯\n",
       " 6111 │ CP001661.1/2331226-2331122    AACUUAUCACGAGCGACCGAGGGACUGGCCCC…  Geoba\n",
       " 6112 │ CP002043.1/113014-112896      GUCUUAUCCAGAGCAGCGGAGGGAACGGCCCU…  Meiot\n",
       "\u001b[36m                                                 2 columns and 6097 rows omitted\u001b[0m"
      ]
     },
     "metadata": {},
     "output_type": "display_data"
    }
   ],
   "source": [
    "MSA_df=SamApp.rf00162_hits_taxonomy()\n"
   ]
  },
  {
   "cell_type": "code",
   "execution_count": 52,
   "metadata": {},
   "outputs": [
    {
     "data": {
      "text/html": [
       "<div><div style = \"float: left;\"><span>3×2 DataFrame</span></div><div style = \"clear: both;\"></div></div><div class = \"data-frame\" style = \"overflow-x: scroll;\"><table class = \"data-frame\" style = \"margin-bottom: 6px;\"><thead><tr class = \"header\"><th class = \"rowNumber\" style = \"font-weight: bold; text-align: right;\">Row</th><th style = \"text-align: left;\">domain</th><th style = \"text-align: left;\">count</th></tr><tr class = \"subheader headerLastRow\"><th class = \"rowNumber\" style = \"font-weight: bold; text-align: right;\"></th><th title = \"String\" style = \"text-align: left;\">String</th><th title = \"Int64\" style = \"text-align: left;\">Int64</th></tr></thead><tbody><tr><td class = \"rowNumber\" style = \"font-weight: bold; text-align: right;\">1</td><td style = \"text-align: left;\">Bacteria</td><td style = \"text-align: right;\">6085</td></tr><tr><td class = \"rowNumber\" style = \"font-weight: bold; text-align: right;\">2</td><td style = \"text-align: left;\">Eukaryota</td><td style = \"text-align: right;\">21</td></tr><tr><td class = \"rowNumber\" style = \"font-weight: bold; text-align: right;\">3</td><td style = \"text-align: left;\">unclassified sequences</td><td style = \"text-align: right;\">6</td></tr></tbody></table></div>"
      ],
      "text/latex": [
       "\\begin{tabular}{r|cc}\n",
       "\t& domain & count\\\\\n",
       "\t\\hline\n",
       "\t& String & Int64\\\\\n",
       "\t\\hline\n",
       "\t1 & Bacteria & 6085 \\\\\n",
       "\t2 & Eukaryota & 21 \\\\\n",
       "\t3 & unclassified sequences & 6 \\\\\n",
       "\\end{tabular}\n"
      ],
      "text/plain": [
       "\u001b[1m3×2 DataFrame\u001b[0m\n",
       "\u001b[1m Row \u001b[0m│\u001b[1m domain                 \u001b[0m\u001b[1m count \u001b[0m\n",
       "     │\u001b[90m String                 \u001b[0m\u001b[90m Int64 \u001b[0m\n",
       "─────┼───────────────────────────────\n",
       "   1 │ Bacteria                 6085\n",
       "   2 │ Eukaryota                  21\n",
       "   3 │ unclassified sequences      6"
      ]
     },
     "metadata": {},
     "output_type": "display_data"
    }
   ],
   "source": [
    "sp_taxonomy = split.(MSA_df[:,\"taxonomy\"], \"; \")\n",
    "#phyla = fill(\"other\", length(sp_taxonomy))\n",
    "#domain = fill(\"Bacteria\", length(sp_taxonomy))\n",
    "\n",
    "for i in 1:length(sp_taxonomy)\n",
    "    if length(sp_taxonomy[i]) >= 3\n",
    "        phyla[i] = sp_taxonomy[i][2]*\";\"*sp_taxonomy[i][3]\n",
    "        domain[i] = sp_taxonomy[i][1]\n",
    "    elseif length(sp_taxonomy[i]) == 2\n",
    "        phyla[i] = sp_taxonomy[i][2]\n",
    "        domain[i] = sp_taxonomy[i][1]\n",
    "    elseif length(sp_taxonomy[i]) == 1\n",
    "        phyla[i] = sp_taxonomy[i][1]\n",
    "        domain[i] = sp_taxonomy[i][1]\n",
    "    end\n",
    "end\n",
    "\n",
    "MSA_df[!,:domain] = domain\n",
    "MSA_df[!,:phylum] = phyla\n",
    "\n",
    "domain_counts = sort!(combine(groupby(MSA_df, :domain), :domain => length => :count), :count, rev=true)\n"
   ]
  },
  {
   "cell_type": "code",
   "execution_count": 53,
   "metadata": {},
   "outputs": [
    {
     "data": {
      "text/html": [
       "<div><div style = \"float: left;\"><span>163×2 DataFrame</span></div><div style = \"float: right;\"><span style = \"font-style: italic;\">138 rows omitted</span></div><div style = \"clear: both;\"></div></div><div class = \"data-frame\" style = \"overflow-x: scroll;\"><table class = \"data-frame\" style = \"margin-bottom: 6px;\"><thead><tr class = \"header\"><th class = \"rowNumber\" style = \"font-weight: bold; text-align: right;\">Row</th><th style = \"text-align: left;\">phylum</th><th style = \"text-align: left;\">count</th></tr><tr class = \"subheader headerLastRow\"><th class = \"rowNumber\" style = \"font-weight: bold; text-align: right;\"></th><th title = \"String\" style = \"text-align: left;\">String</th><th title = \"Int64\" style = \"text-align: left;\">Int64</th></tr></thead><tbody><tr><td class = \"rowNumber\" style = \"font-weight: bold; text-align: right;\">1</td><td style = \"text-align: left;\">Bacillota;Bacilli</td><td style = \"text-align: right;\">2382</td></tr><tr><td class = \"rowNumber\" style = \"font-weight: bold; text-align: right;\">2</td><td style = \"text-align: left;\">Bacillota;Clostridia</td><td style = \"text-align: right;\">1013</td></tr><tr><td class = \"rowNumber\" style = \"font-weight: bold; text-align: right;\">3</td><td style = \"text-align: left;\">Bacteroidota;Flavobacteriia</td><td style = \"text-align: right;\">361</td></tr><tr><td class = \"rowNumber\" style = \"font-weight: bold; text-align: right;\">4</td><td style = \"text-align: left;\">Bacteroidota;Cytophagia</td><td style = \"text-align: right;\">246</td></tr><tr><td class = \"rowNumber\" style = \"font-weight: bold; text-align: right;\">5</td><td style = \"text-align: left;\">Actinomycetota;Streptomycetales</td><td style = \"text-align: right;\">203</td></tr><tr><td class = \"rowNumber\" style = \"font-weight: bold; text-align: right;\">6</td><td style = \"text-align: left;\">Actinomycetota;Micrococcales</td><td style = \"text-align: right;\">170</td></tr><tr><td class = \"rowNumber\" style = \"font-weight: bold; text-align: right;\">7</td><td style = \"text-align: left;\">Bacillota;Negativicutes</td><td style = \"text-align: right;\">157</td></tr><tr><td class = \"rowNumber\" style = \"font-weight: bold; text-align: right;\">8</td><td style = \"text-align: left;\">Bacteroidota;Sphingobacteriia</td><td style = \"text-align: right;\">149</td></tr><tr><td class = \"rowNumber\" style = \"font-weight: bold; text-align: right;\">9</td><td style = \"text-align: left;\">Pseudomonadota;Deltaproteobacteria</td><td style = \"text-align: right;\">89</td></tr><tr><td class = \"rowNumber\" style = \"font-weight: bold; text-align: right;\">10</td><td style = \"text-align: left;\">Actinomycetota;Pseudonocardiales</td><td style = \"text-align: right;\">88</td></tr><tr><td class = \"rowNumber\" style = \"font-weight: bold; text-align: right;\">11</td><td style = \"text-align: left;\">Pseudomonadota;Gammaproteobacteria</td><td style = \"text-align: right;\">76</td></tr><tr><td class = \"rowNumber\" style = \"font-weight: bold; text-align: right;\">12</td><td style = \"text-align: left;\">Bacillota;Tissierellia</td><td style = \"text-align: right;\">66</td></tr><tr><td class = \"rowNumber\" style = \"font-weight: bold; text-align: right;\">13</td><td style = \"text-align: left;\">Firmicutes;Bacilli</td><td style = \"text-align: right;\">62</td></tr><tr><td style = \"text-align: right;\">&vellip;</td><td style = \"text-align: right;\">&vellip;</td><td style = \"text-align: right;\">&vellip;</td></tr><tr><td class = \"rowNumber\" style = \"font-weight: bold; text-align: right;\">152</td><td style = \"text-align: left;\">Candidatus Giovannonibacteria</td><td style = \"text-align: right;\">1</td></tr><tr><td class = \"rowNumber\" style = \"font-weight: bold; text-align: right;\">153</td><td style = \"text-align: left;\">Candidatus Harrisonbacteria</td><td style = \"text-align: right;\">1</td></tr><tr><td class = \"rowNumber\" style = \"font-weight: bold; text-align: right;\">154</td><td style = \"text-align: left;\">Candidatus Adlerbacteria</td><td style = \"text-align: right;\">1</td></tr><tr><td class = \"rowNumber\" style = \"font-weight: bold; text-align: right;\">155</td><td style = \"text-align: left;\">Candidatus Beckwithbacteria</td><td style = \"text-align: right;\">1</td></tr><tr><td class = \"rowNumber\" style = \"font-weight: bold; text-align: right;\">156</td><td style = \"text-align: left;\">Candidatus Ryanbacteria</td><td style = \"text-align: right;\">1</td></tr><tr><td class = \"rowNumber\" style = \"font-weight: bold; text-align: right;\">157</td><td style = \"text-align: left;\">candidate division CPR2</td><td style = \"text-align: right;\">1</td></tr><tr><td class = \"rowNumber\" style = \"font-weight: bold; text-align: right;\">158</td><td style = \"text-align: left;\">metagenomes;organismal metagenomes</td><td style = \"text-align: right;\">1</td></tr><tr><td class = \"rowNumber\" style = \"font-weight: bold; text-align: right;\">159</td><td style = \"text-align: left;\">Coprothermobacterota;Coprothermobacteria</td><td style = \"text-align: right;\">1</td></tr><tr><td class = \"rowNumber\" style = \"font-weight: bold; text-align: right;\">160</td><td style = \"text-align: left;\">metagenomes</td><td style = \"text-align: right;\">1</td></tr><tr><td class = \"rowNumber\" style = \"font-weight: bold; text-align: right;\">161</td><td style = \"text-align: left;\">Chloroflexi;Thermomicrobiales</td><td style = \"text-align: right;\">1</td></tr><tr><td class = \"rowNumber\" style = \"font-weight: bold; text-align: right;\">162</td><td style = \"text-align: left;\">Actinobacteria;Frankiales</td><td style = \"text-align: right;\">1</td></tr><tr><td class = \"rowNumber\" style = \"font-weight: bold; text-align: right;\">163</td><td style = \"text-align: left;\">Actinomycetota;Glycomycetales</td><td style = \"text-align: right;\">1</td></tr></tbody></table></div>"
      ],
      "text/latex": [
       "\\begin{tabular}{r|cc}\n",
       "\t& phylum & count\\\\\n",
       "\t\\hline\n",
       "\t& String & Int64\\\\\n",
       "\t\\hline\n",
       "\t1 & Bacillota;Bacilli & 2382 \\\\\n",
       "\t2 & Bacillota;Clostridia & 1013 \\\\\n",
       "\t3 & Bacteroidota;Flavobacteriia & 361 \\\\\n",
       "\t4 & Bacteroidota;Cytophagia & 246 \\\\\n",
       "\t5 & Actinomycetota;Streptomycetales & 203 \\\\\n",
       "\t6 & Actinomycetota;Micrococcales & 170 \\\\\n",
       "\t7 & Bacillota;Negativicutes & 157 \\\\\n",
       "\t8 & Bacteroidota;Sphingobacteriia & 149 \\\\\n",
       "\t9 & Pseudomonadota;Deltaproteobacteria & 89 \\\\\n",
       "\t10 & Actinomycetota;Pseudonocardiales & 88 \\\\\n",
       "\t11 & Pseudomonadota;Gammaproteobacteria & 76 \\\\\n",
       "\t12 & Bacillota;Tissierellia & 66 \\\\\n",
       "\t13 & Firmicutes;Bacilli & 62 \\\\\n",
       "\t14 & Chloroflexi & 60 \\\\\n",
       "\t15 & Fusobacteria;Fusobacteriales & 43 \\\\\n",
       "\t16 & Deinococcus-Thermus;Deinococci & 38 \\\\\n",
       "\t17 & Bacteroidota;Chitinophagia & 35 \\\\\n",
       "\t18 & Bacteroidota & 35 \\\\\n",
       "\t19 & Actinomycetota;Micromonosporales & 35 \\\\\n",
       "\t20 & Chloroflexi;Anaerolineae & 34 \\\\\n",
       "\t21 & Actinomycetota;Corynebacteriales & 34 \\\\\n",
       "\t22 & Bacteria & 33 \\\\\n",
       "\t23 & Actinomycetota;Actinomycetales & 32 \\\\\n",
       "\t24 & Bacillota;environmental samples & 30 \\\\\n",
       "\t$\\dots$ & $\\dots$ & $\\dots$ \\\\\n",
       "\\end{tabular}\n"
      ],
      "text/plain": [
       "\u001b[1m163×2 DataFrame\u001b[0m\n",
       "\u001b[1m Row \u001b[0m│\u001b[1m phylum                            \u001b[0m\u001b[1m count \u001b[0m\n",
       "     │\u001b[90m String                            \u001b[0m\u001b[90m Int64 \u001b[0m\n",
       "─────┼──────────────────────────────────────────\n",
       "   1 │ Bacillota;Bacilli                   2382\n",
       "   2 │ Bacillota;Clostridia                1013\n",
       "   3 │ Bacteroidota;Flavobacteriia          361\n",
       "   4 │ Bacteroidota;Cytophagia              246\n",
       "   5 │ Actinomycetota;Streptomycetales      203\n",
       "   6 │ Actinomycetota;Micrococcales         170\n",
       "   7 │ Bacillota;Negativicutes              157\n",
       "   8 │ Bacteroidota;Sphingobacteriia        149\n",
       "  ⋮  │                 ⋮                    ⋮\n",
       " 157 │ candidate division CPR2                1\n",
       " 158 │ metagenomes;organismal metagenom…      1\n",
       " 159 │ Coprothermobacterota;Coprothermo…      1\n",
       " 160 │ metagenomes                            1\n",
       " 161 │ Chloroflexi;Thermomicrobiales          1\n",
       " 162 │ Actinobacteria;Frankiales              1\n",
       " 163 │ Actinomycetota;Glycomycetales          1\n",
       "\u001b[36m                                148 rows omitted\u001b[0m"
      ]
     },
     "metadata": {},
     "output_type": "display_data"
    }
   ],
   "source": [
    "phyla_counts = sort!(combine(groupby(MSA_df, :phylum), :phylum => length => :count), :count, rev=true)\n",
    "\n"
   ]
  },
  {
   "cell_type": "code",
   "execution_count": 54,
   "metadata": {},
   "outputs": [],
   "source": [
    "for j in 1:nrow(MSA_df)\n",
    "    if phyla_counts.count[findall(phyla_counts.phylum.== MSA_df[j, :phylum])][1] < 160 \n",
    "        MSA_df[!, :phylum][j] = \"other\"\n",
    "    end\n",
    "end\n",
    "\n",
    "label_file = open(\"labels.txt\",\"w+\")\n",
    "\n",
    "for label in MSA_df.phylum\n",
    "    println(label_file, label)\n",
    "end\n",
    "close(label_file)"
   ]
  }
 ],
 "metadata": {
  "kernelspec": {
   "display_name": "Julia 1.8.5",
   "language": "julia",
   "name": "julia-1.8"
  },
  "language_info": {
   "file_extension": ".jl",
   "mimetype": "application/julia",
   "name": "julia",
   "version": "1.8.5"
  },
  "orig_nbformat": 4
 },
 "nbformat": 4,
 "nbformat_minor": 2
}
