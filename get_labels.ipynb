{
 "cells": [
  {
   "cell_type": "code",
   "execution_count": 1,
   "metadata": {},
   "outputs": [
    {
     "name": "stderr",
     "output_type": "stream",
     "text": [
      "\u001b[32m\u001b[1m  Activating\u001b[22m\u001b[39m project at `~/Desktop/SAM`\n"
     ]
    },
    {
     "name": "stderr",
     "output_type": "stream",
     "text": [
      "\u001b[32m\u001b[1m  No Changes\u001b[22m\u001b[39m to `~/Desktop/SAM/Project.toml`\n",
      "\u001b[32m\u001b[1m  No Changes\u001b[22m\u001b[39m to `~/Desktop/SAM/Manifest.toml`\n"
     ]
    }
   ],
   "source": [
    "# Activate project\n",
    "using Pkg\n",
    "Pkg.activate(\"/Users/alessiogiorlandino/Desktop/SAM/Project.toml\")\n",
    "Base.active_project()\n",
    "# Resolve dependencies\n",
    "Pkg.resolve()"
   ]
  },
  {
   "cell_type": "code",
   "execution_count": 4,
   "metadata": {},
   "outputs": [],
   "source": [
    "using EllipsisNotation: (..)\n",
    "using FillArrays: Falses\n",
    "import Makie, CairoMakie\n",
    "using Makie: @colorant_str\n",
    "import SamApp\n",
    "using LinearAlgebra\n",
    "using Statistics\n",
    "\n",
    "using CSV\n",
    "using DataFrames\n",
    "\n",
    "using BioSequences: LongRNA, @rna_str\n",
    "using Statistics: mean, std, cor"
   ]
  },
  {
   "cell_type": "code",
   "execution_count": 6,
   "metadata": {},
   "outputs": [],
   "source": [
    "MSA_df=SamApp.rf00162_hits_taxonomy();\n"
   ]
  },
  {
   "cell_type": "code",
   "execution_count": 20,
   "metadata": {},
   "outputs": [
    {
     "data": {
      "text/plain": [
       "6112-element Vector{String}:\n",
       " \"Bacillota\"\n",
       " \"Bacillota\"\n",
       " \"Bacillota\"\n",
       " \"Bacillota\"\n",
       " \"Bacillota\"\n",
       " \"Bacillota\"\n",
       " \"Bacillota\"\n",
       " \"Bacillota\"\n",
       " \"Bacillota\"\n",
       " \"Bacillota\"\n",
       " ⋮\n",
       " \"Chloroflexi\"\n",
       " \"Bacteroidota\"\n",
       " \"Bacillota\"\n",
       " \"Bacteroidota\"\n",
       " \"Bacillota\"\n",
       " \"Bacteroidota\"\n",
       " \"Actinomycetota\"\n",
       " \"Proteobacteria\"\n",
       " \"Deinococcus-Thermus\""
      ]
     },
     "metadata": {},
     "output_type": "display_data"
    }
   ],
   "source": [
    "MSA_df[!,:domain] = domain\n",
    "MSA_df[!,:phylum] = phyla\n"
   ]
  },
  {
   "cell_type": "code",
   "execution_count": 21,
   "metadata": {},
   "outputs": [
    {
     "data": {
      "text/plain": [
       "6112-element Vector{String}:\n",
       " \"Bacillota;Bacilli\"\n",
       " \"Bacillota;Bacilli\"\n",
       " \"Bacillota;Tissierellia\"\n",
       " \"Bacillota;Clostridia\"\n",
       " \"Bacillota;Bacilli\"\n",
       " \"Bacillota;Bacilli\"\n",
       " \"Bacillota;Bacilli\"\n",
       " \"Bacillota;Bacilli\"\n",
       " \"Bacillota;Bacilli\"\n",
       " \"Bacillota;Bacilli\"\n",
       " ⋮\n",
       " \"Chloroflexi;Sphaerobacteridae\"\n",
       " \"Bacteroidota;Cytophagia\"\n",
       " \"Bacillota;Clostridia\"\n",
       " \"Bacteroidota;Flavobacteriia\"\n",
       " \"Bacillota;Clostridia\"\n",
       " \"Bacteroidota;Sphingobacteriia\"\n",
       " \"Actinomycetota;Pseudonocardiales\"\n",
       " \"Proteobacteria;Deltaproteobacteria\"\n",
       " \"Deinococcus-Thermus;Deinococci\""
      ]
     },
     "metadata": {},
     "output_type": "display_data"
    }
   ],
   "source": [
    "sp_taxonomy = split.(MSA_df[:,\"taxonomy\"], \"; \")\n",
    "phylum = fill(\"other\", length(sp_taxonomy))\n",
    "domain = fill(\"Bacteria\", length(sp_taxonomy))\n",
    "subphylum = fill(\"other\", length(sp_taxonomy))\n",
    "\n",
    "for i in 1:length(sp_taxonomy)\n",
    "    if length(sp_taxonomy[i]) >= 3\n",
    "        domain[i] = sp_taxonomy[i][1]\n",
    "        phylum[i] = sp_taxonomy[i][2]\n",
    "        subphylum[i] = sp_taxonomy[i][2]*\";\"*sp_taxonomy[i][3]\n",
    "    elseif length(sp_taxonomy[i]) == 2\n",
    "        domain[i] = sp_taxonomy[i][1]\n",
    "        phyla[i] = sp_taxonomy[i][2]\n",
    "    elseif length(sp_taxonomy[i]) == 1\n",
    "        domain[i] = sp_taxonomy[i][1]\n",
    "    end\n",
    "end\n",
    "\n",
    "MSA_df[!,:domain] = domain\n",
    "MSA_df[!,:phylum] = phyla\n",
    "MSA_df[!,:subphylum] = subphylum\n",
    "\n",
    "\n",
    "\n",
    "#domain_counts = sort!(combine(groupby(MSA_df, :domain), :domain => length => :count), :count, rev=true)\n"
   ]
  },
  {
   "cell_type": "code",
   "execution_count": 22,
   "metadata": {},
   "outputs": [
    {
     "data": {
      "text/html": [
       "<div><div style = \"float: left;\"><span>81×2 DataFrame</span></div><div style = \"float: right;\"><span style = \"font-style: italic;\">56 rows omitted</span></div><div style = \"clear: both;\"></div></div><div class = \"data-frame\" style = \"overflow-x: scroll;\"><table class = \"data-frame\" style = \"margin-bottom: 6px;\"><thead><tr class = \"header\"><th class = \"rowNumber\" style = \"font-weight: bold; text-align: right;\">Row</th><th style = \"text-align: left;\">phylum</th><th style = \"text-align: left;\">count</th></tr><tr class = \"subheader headerLastRow\"><th class = \"rowNumber\" style = \"font-weight: bold; text-align: right;\"></th><th title = \"String\" style = \"text-align: left;\">String</th><th title = \"Int64\" style = \"text-align: left;\">Int64</th></tr></thead><tbody><tr><td class = \"rowNumber\" style = \"font-weight: bold; text-align: right;\">1</td><td style = \"text-align: left;\">Bacillota</td><td style = \"text-align: right;\">3679</td></tr><tr><td class = \"rowNumber\" style = \"font-weight: bold; text-align: right;\">2</td><td style = \"text-align: left;\">Bacteroidota</td><td style = \"text-align: right;\">854</td></tr><tr><td class = \"rowNumber\" style = \"font-weight: bold; text-align: right;\">3</td><td style = \"text-align: left;\">Actinomycetota</td><td style = \"text-align: right;\">691</td></tr><tr><td class = \"rowNumber\" style = \"font-weight: bold; text-align: right;\">4</td><td style = \"text-align: left;\">Pseudomonadota</td><td style = \"text-align: right;\">187</td></tr><tr><td class = \"rowNumber\" style = \"font-weight: bold; text-align: right;\">5</td><td style = \"text-align: left;\">Chloroflexi</td><td style = \"text-align: right;\">142</td></tr><tr><td class = \"rowNumber\" style = \"font-weight: bold; text-align: right;\">6</td><td style = \"text-align: left;\">Firmicutes</td><td style = \"text-align: right;\">84</td></tr><tr><td class = \"rowNumber\" style = \"font-weight: bold; text-align: right;\">7</td><td style = \"text-align: left;\">Fusobacteria</td><td style = \"text-align: right;\">43</td></tr><tr><td class = \"rowNumber\" style = \"font-weight: bold; text-align: right;\">8</td><td style = \"text-align: left;\">Deinococcus-Thermus</td><td style = \"text-align: right;\">38</td></tr><tr><td class = \"rowNumber\" style = \"font-weight: bold; text-align: right;\">9</td><td style = \"text-align: left;\">Bacteria</td><td style = \"text-align: right;\">33</td></tr><tr><td class = \"rowNumber\" style = \"font-weight: bold; text-align: right;\">10</td><td style = \"text-align: left;\">Tenericutes</td><td style = \"text-align: right;\">29</td></tr><tr><td class = \"rowNumber\" style = \"font-weight: bold; text-align: right;\">11</td><td style = \"text-align: left;\">Acidobacteria</td><td style = \"text-align: right;\">25</td></tr><tr><td class = \"rowNumber\" style = \"font-weight: bold; text-align: right;\">12</td><td style = \"text-align: left;\">Planctomycetota</td><td style = \"text-align: right;\">24</td></tr><tr><td class = \"rowNumber\" style = \"font-weight: bold; text-align: right;\">13</td><td style = \"text-align: left;\">Chlorobi</td><td style = \"text-align: right;\">21</td></tr><tr><td style = \"text-align: right;\">&vellip;</td><td style = \"text-align: right;\">&vellip;</td><td style = \"text-align: right;\">&vellip;</td></tr><tr><td class = \"rowNumber\" style = \"font-weight: bold; text-align: right;\">70</td><td style = \"text-align: left;\">Candidatus Wolfebacteria</td><td style = \"text-align: right;\">1</td></tr><tr><td class = \"rowNumber\" style = \"font-weight: bold; text-align: right;\">71</td><td style = \"text-align: left;\">Candidatus Liptonbacteria</td><td style = \"text-align: right;\">1</td></tr><tr><td class = \"rowNumber\" style = \"font-weight: bold; text-align: right;\">72</td><td style = \"text-align: left;\">Candidatus Nealsonbacteria</td><td style = \"text-align: right;\">1</td></tr><tr><td class = \"rowNumber\" style = \"font-weight: bold; text-align: right;\">73</td><td style = \"text-align: left;\">Candidatus Jorgensenbacteria</td><td style = \"text-align: right;\">1</td></tr><tr><td class = \"rowNumber\" style = \"font-weight: bold; text-align: right;\">74</td><td style = \"text-align: left;\">Candidatus Berkelbacteria</td><td style = \"text-align: right;\">1</td></tr><tr><td class = \"rowNumber\" style = \"font-weight: bold; text-align: right;\">75</td><td style = \"text-align: left;\">Candidatus Giovannonibacteria</td><td style = \"text-align: right;\">1</td></tr><tr><td class = \"rowNumber\" style = \"font-weight: bold; text-align: right;\">76</td><td style = \"text-align: left;\">Candidatus Harrisonbacteria</td><td style = \"text-align: right;\">1</td></tr><tr><td class = \"rowNumber\" style = \"font-weight: bold; text-align: right;\">77</td><td style = \"text-align: left;\">Candidatus Adlerbacteria</td><td style = \"text-align: right;\">1</td></tr><tr><td class = \"rowNumber\" style = \"font-weight: bold; text-align: right;\">78</td><td style = \"text-align: left;\">Candidatus Beckwithbacteria</td><td style = \"text-align: right;\">1</td></tr><tr><td class = \"rowNumber\" style = \"font-weight: bold; text-align: right;\">79</td><td style = \"text-align: left;\">Candidatus Ryanbacteria</td><td style = \"text-align: right;\">1</td></tr><tr><td class = \"rowNumber\" style = \"font-weight: bold; text-align: right;\">80</td><td style = \"text-align: left;\">candidate division CPR2</td><td style = \"text-align: right;\">1</td></tr><tr><td class = \"rowNumber\" style = \"font-weight: bold; text-align: right;\">81</td><td style = \"text-align: left;\">Coprothermobacterota</td><td style = \"text-align: right;\">1</td></tr></tbody></table></div>"
      ],
      "text/latex": [
       "\\begin{tabular}{r|cc}\n",
       "\t& phylum & count\\\\\n",
       "\t\\hline\n",
       "\t& String & Int64\\\\\n",
       "\t\\hline\n",
       "\t1 & Bacillota & 3679 \\\\\n",
       "\t2 & Bacteroidota & 854 \\\\\n",
       "\t3 & Actinomycetota & 691 \\\\\n",
       "\t4 & Pseudomonadota & 187 \\\\\n",
       "\t5 & Chloroflexi & 142 \\\\\n",
       "\t6 & Firmicutes & 84 \\\\\n",
       "\t7 & Fusobacteria & 43 \\\\\n",
       "\t8 & Deinococcus-Thermus & 38 \\\\\n",
       "\t9 & Bacteria & 33 \\\\\n",
       "\t10 & Tenericutes & 29 \\\\\n",
       "\t11 & Acidobacteria & 25 \\\\\n",
       "\t12 & Planctomycetota & 24 \\\\\n",
       "\t13 & Chlorobi & 21 \\\\\n",
       "\t14 & Actinobacteria & 17 \\\\\n",
       "\t15 & Synergistetes & 15 \\\\\n",
       "\t16 & Viridiplantae & 12 \\\\\n",
       "\t17 & Bacteroidetes & 12 \\\\\n",
       "\t18 & Ignavibacteriae & 11 \\\\\n",
       "\t19 & Candidatus Saccharibacteria & 11 \\\\\n",
       "\t20 & Candidatus Kaiserbacteria & 10 \\\\\n",
       "\t21 & Candidatus Nomurabacteria & 9 \\\\\n",
       "\t22 & Cyanobacteria & 8 \\\\\n",
       "\t23 & Candidatus Yanofskybacteria & 8 \\\\\n",
       "\t24 & Verrucomicrobia & 7 \\\\\n",
       "\t$\\dots$ & $\\dots$ & $\\dots$ \\\\\n",
       "\\end{tabular}\n"
      ],
      "text/plain": [
       "\u001b[1m81×2 DataFrame\u001b[0m\n",
       "\u001b[1m Row \u001b[0m│\u001b[1m phylum                        \u001b[0m\u001b[1m count \u001b[0m\n",
       "     │\u001b[90m String                        \u001b[0m\u001b[90m Int64 \u001b[0m\n",
       "─────┼──────────────────────────────────────\n",
       "   1 │ Bacillota                       3679\n",
       "   2 │ Bacteroidota                     854\n",
       "   3 │ Actinomycetota                   691\n",
       "   4 │ Pseudomonadota                   187\n",
       "   5 │ Chloroflexi                      142\n",
       "   6 │ Firmicutes                        84\n",
       "   7 │ Fusobacteria                      43\n",
       "   8 │ Deinococcus-Thermus               38\n",
       "  ⋮  │               ⋮                  ⋮\n",
       "  75 │ Candidatus Giovannonibacteria      1\n",
       "  76 │ Candidatus Harrisonbacteria        1\n",
       "  77 │ Candidatus Adlerbacteria           1\n",
       "  78 │ Candidatus Beckwithbacteria        1\n",
       "  79 │ Candidatus Ryanbacteria            1\n",
       "  80 │ candidate division CPR2            1\n",
       "  81 │ Coprothermobacterota               1\n",
       "\u001b[36m                             66 rows omitted\u001b[0m"
      ]
     },
     "metadata": {},
     "output_type": "display_data"
    }
   ],
   "source": [
    "phyla_counts = sort!(combine(groupby(MSA_df, :phylum), :phylum => length => :count), :count, rev=true)\n",
    "\n"
   ]
  },
  {
   "cell_type": "code",
   "execution_count": 34,
   "metadata": {},
   "outputs": [
    {
     "data": {
      "text/html": [
       "<div><div style = \"float: left;\"><span>105×2 DataFrame</span></div><div style = \"float: right;\"><span style = \"font-style: italic;\">80 rows omitted</span></div><div style = \"clear: both;\"></div></div><div class = \"data-frame\" style = \"overflow-x: scroll;\"><table class = \"data-frame\" style = \"margin-bottom: 6px;\"><thead><tr class = \"header\"><th class = \"rowNumber\" style = \"font-weight: bold; text-align: right;\">Row</th><th style = \"text-align: left;\">subphylum</th><th style = \"text-align: left;\">count</th></tr><tr class = \"subheader headerLastRow\"><th class = \"rowNumber\" style = \"font-weight: bold; text-align: right;\"></th><th title = \"String\" style = \"text-align: left;\">String</th><th title = \"Int64\" style = \"text-align: left;\">Int64</th></tr></thead><tbody><tr><td class = \"rowNumber\" style = \"font-weight: bold; text-align: right;\">1</td><td style = \"text-align: left;\">Bacillota;Bacilli</td><td style = \"text-align: right;\">2382</td></tr><tr><td class = \"rowNumber\" style = \"font-weight: bold; text-align: right;\">2</td><td style = \"text-align: left;\">Bacillota;Clostridia</td><td style = \"text-align: right;\">1013</td></tr><tr><td class = \"rowNumber\" style = \"font-weight: bold; text-align: right;\">3</td><td style = \"text-align: left;\">Bacteroidota;Flavobacteriia</td><td style = \"text-align: right;\">361</td></tr><tr><td class = \"rowNumber\" style = \"font-weight: bold; text-align: right;\">4</td><td style = \"text-align: left;\">other</td><td style = \"text-align: right;\">319</td></tr><tr><td class = \"rowNumber\" style = \"font-weight: bold; text-align: right;\">5</td><td style = \"text-align: left;\">Bacteroidota;Cytophagia</td><td style = \"text-align: right;\">246</td></tr><tr><td class = \"rowNumber\" style = \"font-weight: bold; text-align: right;\">6</td><td style = \"text-align: left;\">Actinomycetota;Streptomycetales</td><td style = \"text-align: right;\">203</td></tr><tr><td class = \"rowNumber\" style = \"font-weight: bold; text-align: right;\">7</td><td style = \"text-align: left;\">Actinomycetota;Micrococcales</td><td style = \"text-align: right;\">170</td></tr><tr><td class = \"rowNumber\" style = \"font-weight: bold; text-align: right;\">8</td><td style = \"text-align: left;\">Bacillota;Negativicutes</td><td style = \"text-align: right;\">157</td></tr><tr><td class = \"rowNumber\" style = \"font-weight: bold; text-align: right;\">9</td><td style = \"text-align: left;\">Bacteroidota;Sphingobacteriia</td><td style = \"text-align: right;\">149</td></tr><tr><td class = \"rowNumber\" style = \"font-weight: bold; text-align: right;\">10</td><td style = \"text-align: left;\">Pseudomonadota;Deltaproteobacteria</td><td style = \"text-align: right;\">89</td></tr><tr><td class = \"rowNumber\" style = \"font-weight: bold; text-align: right;\">11</td><td style = \"text-align: left;\">Actinomycetota;Pseudonocardiales</td><td style = \"text-align: right;\">88</td></tr><tr><td class = \"rowNumber\" style = \"font-weight: bold; text-align: right;\">12</td><td style = \"text-align: left;\">Pseudomonadota;Gammaproteobacteria</td><td style = \"text-align: right;\">76</td></tr><tr><td class = \"rowNumber\" style = \"font-weight: bold; text-align: right;\">13</td><td style = \"text-align: left;\">Bacillota;Tissierellia</td><td style = \"text-align: right;\">66</td></tr><tr><td style = \"text-align: right;\">&vellip;</td><td style = \"text-align: right;\">&vellip;</td><td style = \"text-align: right;\">&vellip;</td></tr><tr><td class = \"rowNumber\" style = \"font-weight: bold; text-align: right;\">94</td><td style = \"text-align: left;\">Bacteroidota;environmental samples</td><td style = \"text-align: right;\">1</td></tr><tr><td class = \"rowNumber\" style = \"font-weight: bold; text-align: right;\">95</td><td style = \"text-align: left;\">Pseudomonadota;Zetaproteobacteria</td><td style = \"text-align: right;\">1</td></tr><tr><td class = \"rowNumber\" style = \"font-weight: bold; text-align: right;\">96</td><td style = \"text-align: left;\">Nitrospirae;Nitrospirales</td><td style = \"text-align: right;\">1</td></tr><tr><td class = \"rowNumber\" style = \"font-weight: bold; text-align: right;\">97</td><td style = \"text-align: left;\">Candidatus Saccharibacteria;Candidatus Saccharimonadia</td><td style = \"text-align: right;\">1</td></tr><tr><td class = \"rowNumber\" style = \"font-weight: bold; text-align: right;\">98</td><td style = \"text-align: left;\">Acidobacteria;Bryobacterales</td><td style = \"text-align: right;\">1</td></tr><tr><td class = \"rowNumber\" style = \"font-weight: bold; text-align: right;\">99</td><td style = \"text-align: left;\">Actinobacteria;Actinomycetales</td><td style = \"text-align: right;\">1</td></tr><tr><td class = \"rowNumber\" style = \"font-weight: bold; text-align: right;\">100</td><td style = \"text-align: left;\">Planctomycetota;Phycisphaerae</td><td style = \"text-align: right;\">1</td></tr><tr><td class = \"rowNumber\" style = \"font-weight: bold; text-align: right;\">101</td><td style = \"text-align: left;\">metagenomes;organismal metagenomes</td><td style = \"text-align: right;\">1</td></tr><tr><td class = \"rowNumber\" style = \"font-weight: bold; text-align: right;\">102</td><td style = \"text-align: left;\">Coprothermobacterota;Coprothermobacteria</td><td style = \"text-align: right;\">1</td></tr><tr><td class = \"rowNumber\" style = \"font-weight: bold; text-align: right;\">103</td><td style = \"text-align: left;\">Chloroflexi;Thermomicrobiales</td><td style = \"text-align: right;\">1</td></tr><tr><td class = \"rowNumber\" style = \"font-weight: bold; text-align: right;\">104</td><td style = \"text-align: left;\">Actinobacteria;Frankiales</td><td style = \"text-align: right;\">1</td></tr><tr><td class = \"rowNumber\" style = \"font-weight: bold; text-align: right;\">105</td><td style = \"text-align: left;\">Actinomycetota;Glycomycetales</td><td style = \"text-align: right;\">1</td></tr></tbody></table></div>"
      ],
      "text/latex": [
       "\\begin{tabular}{r|cc}\n",
       "\t& subphylum & count\\\\\n",
       "\t\\hline\n",
       "\t& String & Int64\\\\\n",
       "\t\\hline\n",
       "\t1 & Bacillota;Bacilli & 2382 \\\\\n",
       "\t2 & Bacillota;Clostridia & 1013 \\\\\n",
       "\t3 & Bacteroidota;Flavobacteriia & 361 \\\\\n",
       "\t4 & other & 319 \\\\\n",
       "\t5 & Bacteroidota;Cytophagia & 246 \\\\\n",
       "\t6 & Actinomycetota;Streptomycetales & 203 \\\\\n",
       "\t7 & Actinomycetota;Micrococcales & 170 \\\\\n",
       "\t8 & Bacillota;Negativicutes & 157 \\\\\n",
       "\t9 & Bacteroidota;Sphingobacteriia & 149 \\\\\n",
       "\t10 & Pseudomonadota;Deltaproteobacteria & 89 \\\\\n",
       "\t11 & Actinomycetota;Pseudonocardiales & 88 \\\\\n",
       "\t12 & Pseudomonadota;Gammaproteobacteria & 76 \\\\\n",
       "\t13 & Bacillota;Tissierellia & 66 \\\\\n",
       "\t14 & Firmicutes;Bacilli & 62 \\\\\n",
       "\t15 & Fusobacteria;Fusobacteriales & 43 \\\\\n",
       "\t16 & Deinococcus-Thermus;Deinococci & 38 \\\\\n",
       "\t17 & Bacteroidota;Chitinophagia & 35 \\\\\n",
       "\t18 & Actinomycetota;Micromonosporales & 35 \\\\\n",
       "\t19 & Chloroflexi;Anaerolineae & 34 \\\\\n",
       "\t20 & Actinomycetota;Corynebacteriales & 34 \\\\\n",
       "\t21 & Actinomycetota;Actinomycetales & 32 \\\\\n",
       "\t22 & Bacillota;environmental samples & 30 \\\\\n",
       "\t23 & Actinomycetota;Propionibacteriales & 30 \\\\\n",
       "\t24 & Tenericutes;Mollicutes & 24 \\\\\n",
       "\t$\\dots$ & $\\dots$ & $\\dots$ \\\\\n",
       "\\end{tabular}\n"
      ],
      "text/plain": [
       "\u001b[1m105×2 DataFrame\u001b[0m\n",
       "\u001b[1m Row \u001b[0m│\u001b[1m subphylum                         \u001b[0m\u001b[1m count \u001b[0m\n",
       "     │\u001b[90m String                            \u001b[0m\u001b[90m Int64 \u001b[0m\n",
       "─────┼──────────────────────────────────────────\n",
       "   1 │ Bacillota;Bacilli                   2382\n",
       "   2 │ Bacillota;Clostridia                1013\n",
       "   3 │ Bacteroidota;Flavobacteriia          361\n",
       "   4 │ other                                319\n",
       "   5 │ Bacteroidota;Cytophagia              246\n",
       "   6 │ Actinomycetota;Streptomycetales      203\n",
       "   7 │ Actinomycetota;Micrococcales         170\n",
       "   8 │ Bacillota;Negativicutes              157\n",
       "  ⋮  │                 ⋮                    ⋮\n",
       "  99 │ Actinobacteria;Actinomycetales         1\n",
       " 100 │ Planctomycetota;Phycisphaerae          1\n",
       " 101 │ metagenomes;organismal metagenom…      1\n",
       " 102 │ Coprothermobacterota;Coprothermo…      1\n",
       " 103 │ Chloroflexi;Thermomicrobiales          1\n",
       " 104 │ Actinobacteria;Frankiales              1\n",
       " 105 │ Actinomycetota;Glycomycetales          1\n",
       "\u001b[36m                                 90 rows omitted\u001b[0m"
      ]
     },
     "metadata": {},
     "output_type": "display_data"
    }
   ],
   "source": [
    "subphyla_counts = sort!(combine(groupby(MSA_df, :subphylum), :phylum => length => :count), :count, rev=true)\n"
   ]
  },
  {
   "attachments": {},
   "cell_type": "markdown",
   "metadata": {},
   "source": [
    "# Focus On"
   ]
  },
  {
   "attachments": {},
   "cell_type": "markdown",
   "metadata": {},
   "source": [
    "1   Bacillota;Bacilli\t2382 \n",
    "\n",
    "2\tBacillota;Clostridia\t1013 \n",
    "\n",
    "3\tBacteroidota;Flavobacteriia\t361 \n",
    "\n",
    "\n",
    "4\tBacteroidota;Cytophagia\t246 \n",
    "\n",
    "5\tActinomycetota;Streptomycetales\t203 \n",
    "\n",
    "6\tActinomycetota;Micrococcales\t170 "
   ]
  },
  {
   "cell_type": "code",
   "execution_count": 59,
   "metadata": {},
   "outputs": [
    {
     "data": {
      "text/plain": [
       "6-element Vector{Vector{String31}}:\n",
       " [\"CM000733.1/548881-548775\", \"MLYR01000084.1/7469-7577\", \"CP007739.1/1700701-1700817\", \"CP020772.1/4059248-4059357\", \"JRNX01000191.1/6612-6721\", \"LFXJ01000010.1/73373-73267\", \"KI629782.1/602788-602686\", \"ASQA01000013.1/163414-163521\", \"CP013659.2/266118-266225\", \"FQVW01000032.1/3335-3447\"  …  \"AARI02000249.1/265-361\", \"CP003056.1/960835-960734\", \"ACCR02000003.1/83189-83082\", \"CP003056.1/3328132-3328032\", \"CP001793.1/5775580-5775452\", \"ACDZ02000006.1/93274-93376\", \"CP003056.1/1844232-1844126\", \"CP001656.1/5519557-5519455\", \"CP001791.1/1324400-1324509\", \"CP003056.1/732327-732208\"]\n",
       " [\"LOED01000010.1/15598-15489\", \"LWDV01000009.1/191001-190896\", \"JPMD01000017.1/36678-36561\", \"CP019698.1/2781434-2781540\", \"LKET01000014.1/116462-116348\", \"CP006763.1/1556701-1556601\", \"FRAR01000011.1/111568-111675\", \"LGGF01000011.1/33512-33621\", \"LOED01000008.1/4049-3928\", \"LGFZ01000070.1/5106-5215\"  …  \"ACIP02000004.1/237213-237114\", \"AAXA02000011.1/106110-106208\", \"AAVP02000024.1/12932-13029\", \"ABWN01000022.1/104834-104735\", \"AAYG02000021.1/57727-57823\", \"CP001720.1/3787367-3787476\", \"ABYU02000037.1/4945-4847\", \"ACBY02000020.1/258141-258043\", \"ACCL02000003.1/136176-136276\", \"ACIQ02000024.1/9596-9700\"]\n",
       " [\"CP003787.1/309867-309972\", \"FQYK01000005.1/144401-144511\", \"MKVF01000006.1/552701-552591\", \"FQYP01000003.1/168905-168799\", \"FQYP01000003.1/153006-152900\", \"JRLV01000010.1/39693-39590\", \"FQUT01000006.1/176541-176438\", \"AQRA01000003.1/301169-301277\", \"LIYD01000005.1/2237537-2237644\", \"CP015199.1/1455450-1455343\"  …  \"CP000685.1/4776282-4776182\", \"ABIB01000001.1/287097-286995\", \"AAOG01000001.1/142958-142849\", \"AANC01000003.1/237429-237533\", \"CU207366.1/381646-381752\", \"ABVW01000002.1/44661-44766\", \"AAXX01000001.1/747308-747200\", \"AAPD01000001.1/936074-936181\", \"CP002157.1/228642-228537\", \"ACKQ02000002.1/742513-742620\"]\n",
       " [\"AMZN01000002.1/42097-42203\", \"ALWO02000037.1/157514-157415\", \"AMZY02000003.1/144110-144011\", \"MLAY01000005.1/794549-794439\", \"FZOQ01000025.1/3963-4070\", \"JMIH01000024.1/346027-346130\", \"CP012836.1/2775412-2775313\", \"CP003281.1/3873325-3873216\", \"CP009621.1/1411423-1411319\", \"AODQ01000003.1/9910-10020\"  …  \"LMPS01000005.1/62769-62861\", \"CP003345.1/4085918-4086044\", \"FUZA01000002.1/543263-543356\", \"FUZU01000004.1/384054-383935\", \"CP001619.1/2494850-2494757\", \"AAWS01000061.1/3106-3001\", \"CP000383.1/165474-165365\", \"AAXU02000001.1/3185191-3185093\", \"CP001619.1/3294664-3294557\", \"CP001769.1/5132553-5132446\"]\n",
       " [\"CM000950.1/4364232-4364359\", \"FMCH01000223.1/22834-22705\", \"FZOF01000002.1/400347-400220\", \"JTHL01000001.1/5242027-5242154\", \"JTIY01000001.1/2851850-2851977\", \"FRBI01000010.1/23038-22912\", \"ASQP01000553.1/8571-8428\", \"CM002280.1/5009586-5009713\", \"LYOY01000040.1/835936-836063\", \"LIXJ01000022.1/48422-48295\"  …  \"ACEW01000347.1/17844-17982\", \"ABJH01000081.1/1215-1362\", \"ACEV01000067.1/336881-337014\", \"ABJF01000395.1/4781-4624\", \"ACEU01000265.1/7365-7210\", \"ABYC01000290.1/27042-27199\", \"ABYA01000312.1/4381-4534\", \"ABJG02000470.1/2764-2919\", \"ABJJ02000300.1/30118-29960\", \"ABJI02000433.1/3689-3816\"]\n",
       " [\"AWQS01000226.1/5084-5199\", \"BAHD01000017.1/28612-28734\", \"BAFE01000093.1/33125-33249\", \"CP012070.1/1342700-1342818\", \"CP001686.1/1761186-1761094\", \"MKKB01000222.1/209779-209687\", \"ANPE02000098.1/4367-4276\", \"FNKH01000002.1/1722076-1721987\", \"CP018135.1/1563641-1563551\", \"FQ311875.1/282203-282294\"  …  \"LMJI01000001.1/1718667-1718552\", \"LTYF01000035.1/44698-44802\", \"ANHZ02000005.1/164643-164541\", \"LMSO01000001.1/1318134-1318032\", \"CP001628.1/1133551-1133648\", \"JEMO01000006.1/178591-178703\", \"FNKH01000002.1/1726519-1726353\", \"MKTH01000013.1/425232-425137\", \"CP018135.1/1575517-1575626\", \"CP001821.1/3458323-3458409\"]"
      ]
     },
     "metadata": {},
     "output_type": "display_data"
    }
   ],
   "source": [
    "id_Bacilli = MSA_df.id[MSA_df.subphylum .== \"Bacillota;Bacilli\"]\n",
    "id_Clostridia = MSA_df.id[MSA_df.subphylum .== \"Bacillota;Clostridia\"]\n",
    "id_Flavobacteriia = MSA_df.id[MSA_df.subphylum .== \"Bacteroidota;Flavobacteriia\"]\n",
    "id_Cytophagia= MSA_df.id[MSA_df.subphylum .== \"Bacteroidota;Cytophagia\"]\n",
    "id_Streptomycetales = MSA_df.id[MSA_df.subphylum .== \"Actinomycetota;Streptomycetales\"]\n",
    "id_Micrococcales = MSA_df.id[MSA_df.subphylum .== \"Actinomycetota;Micrococcales\"]\n",
    "\n",
    "subphylum_ids = [id_Bacilli, id_Clostridia, id_Flavobacteriia, id_Cytophagia, id_Streptomycetales, id_Micrococcales]"
   ]
  },
  {
   "cell_type": "code",
   "execution_count": 91,
   "metadata": {},
   "outputs": [
    {
     "data": {
      "text/html": [
       "<div><div style = \"float: left;\"><span>900×7 DataFrame</span></div><div style = \"float: right;\"><span style = \"font-style: italic;\">875 rows omitted</span></div><div style = \"clear: both;\"></div></div><div class = \"data-frame\" style = \"overflow-x: scroll;\"><table class = \"data-frame\" style = \"margin-bottom: 6px;\"><thead><tr class = \"header\"><th class = \"rowNumber\" style = \"font-weight: bold; text-align: right;\">Row</th><th style = \"text-align: left;\">id</th><th style = \"text-align: left;\">sequence</th><th style = \"text-align: left;\">organism</th><th style = \"text-align: left;\">taxonomy</th><th style = \"text-align: left;\">domain</th><th style = \"text-align: left;\">phylum</th><th style = \"text-align: left;\">subphylum</th></tr><tr class = \"subheader headerLastRow\"><th class = \"rowNumber\" style = \"font-weight: bold; text-align: right;\"></th><th title = \"String31\" style = \"text-align: left;\">String31</th><th title = \"String\" style = \"text-align: left;\">String</th><th title = \"String\" style = \"text-align: left;\">String</th><th title = \"String\" style = \"text-align: left;\">String</th><th title = \"String\" style = \"text-align: left;\">String</th><th title = \"String\" style = \"text-align: left;\">String</th><th title = \"String\" style = \"text-align: left;\">String</th></tr></thead><tbody><tr><td class = \"rowNumber\" style = \"font-weight: bold; text-align: right;\">1</td><td style = \"text-align: left;\">JRNX01000191.1/6612-6721</td><td style = \"text-align: left;\">UUCUUAUCAAGAGAGGCAGAGGGACUGGCCCUGUGAAGCCUCAGCAACCACUGGUAUAUCCAGUAAGGUGCUACGUCCAGCAAGUUGUAACAACUUGGAAGAUGAGAA</td><td style = \"text-align: left;\">Halobacillus sp. BBL2006</td><td style = \"text-align: left;\">Bacteria; Bacillota; Bacilli; Bacillales; Bacillaceae; Halobacillus</td><td style = \"text-align: left;\">Bacteria</td><td style = \"text-align: left;\">Bacillota</td><td style = \"text-align: left;\">Bacillota;Bacilli</td></tr><tr><td class = \"rowNumber\" style = \"font-weight: bold; text-align: right;\">2</td><td style = \"text-align: left;\">FQVW01000032.1/3335-3447</td><td style = \"text-align: left;\">CUCUUAUCCAGAGUGGUGGAGGGAAAGGCCCUACGAAACCACGGCAACCUACAAACAUUUUGGAAAGGUGCCAAAUCCUGCGAAGCGUUAUGCUUUGAAAGAUGAGAG</td><td style = \"text-align: left;\">Ornithinibacillus halophilus</td><td style = \"text-align: left;\">Bacteria; Bacillota; Bacilli; Bacillales; Bacillaceae; Ornithinibacillus</td><td style = \"text-align: left;\">Bacteria</td><td style = \"text-align: left;\">Bacillota</td><td style = \"text-align: left;\">Bacillota;Bacilli</td></tr><tr><td class = \"rowNumber\" style = \"font-weight: bold; text-align: right;\">3</td><td style = \"text-align: left;\">CP019698.1/2781434-2781540</td><td style = \"text-align: left;\">UUCUUAUCCAGAGUGGCUGAGGGACUGGCCCUGCGAAGCC-CGGCAACCUUCUUUACAUUAAGAAAGGUGCUAAUUCCUGCAGAAGGUAAUCUUCUGAAAGAUAAGAA</td><td style = \"text-align: left;\">Desulforamulus ferrireducens</td><td style = \"text-align: left;\">Bacteria; Bacillota; Clostridia; Eubacteriales; Peptococcaceae; Desulforamulus</td><td style = \"text-align: left;\">Bacteria</td><td style = \"text-align: left;\">Bacillota</td><td style = \"text-align: left;\">Bacillota;Clostridia</td></tr><tr><td class = \"rowNumber\" style = \"font-weight: bold; text-align: right;\">4</td><td style = \"text-align: left;\">CP001983.1/3652588-3652482</td><td style = \"text-align: left;\">UCCUUAUCAAGAGAGGUGGAGGGACUGGCCCUGUGAAACC-CGGCAACCGCUGUCUAUGACAGAAUGGUGCCAAAUCCUUAAGAACAGUAUGUUCUUGAAGAUGAGGA</td><td style = \"text-align: left;\">Priestia megaterium QM B1551</td><td style = \"text-align: left;\">Bacteria; Bacillota; Bacilli; Bacillales; Bacillaceae; Priestia</td><td style = \"text-align: left;\">Bacteria</td><td style = \"text-align: left;\">Bacillota</td><td style = \"text-align: left;\">Bacillota;Bacilli</td></tr><tr><td class = \"rowNumber\" style = \"font-weight: bold; text-align: right;\">5</td><td style = \"text-align: left;\">MSRF01000212.1/5389-5499</td><td style = \"text-align: left;\">CUCUUAUCAAGAGUAGCUGAGGGACUGGCCCAAUGAAGCU-CGGCAACCUCUAUUAAAAAUAGAAAGGUGCUAAAUCCUGCAAAACAUGAAGUUUUGAAAGAUAAGAG</td><td style = \"text-align: left;\">Bacillus sp. VT-16-64</td><td style = \"text-align: left;\">Bacteria; Bacillota; Bacilli; Bacillales; Bacillaceae; Bacillus</td><td style = \"text-align: left;\">Bacteria</td><td style = \"text-align: left;\">Bacillota</td><td style = \"text-align: left;\">Bacillota;Bacilli</td></tr><tr><td class = \"rowNumber\" style = \"font-weight: bold; text-align: right;\">6</td><td style = \"text-align: left;\">LGGF01000011.1/33512-33621</td><td style = \"text-align: left;\">CUCUUAUCCAGAGAGGUGGAGGGACUGGCCCGAUGAAACC-CGGCAACCGCCUUAAUUAAAGGAAUGGUGCCAAUUCCUGCAGAGGAGAAUCUUCUGACAGAUAAGAG</td><td style = \"text-align: left;\">Desulfotomaculum sp. 46_80</td><td style = \"text-align: left;\">Bacteria; Bacillota; Clostridia; Eubacteriales; Desulfotomaculaceae; Desulfotomaculum</td><td style = \"text-align: left;\">Bacteria</td><td style = \"text-align: left;\">Bacillota</td><td style = \"text-align: left;\">Bacillota;Clostridia</td></tr><tr><td class = \"rowNumber\" style = \"font-weight: bold; text-align: right;\">7</td><td style = \"text-align: left;\">CP015438.1/1142271-1142377</td><td style = \"text-align: left;\">UUCUUAUCAAGAGAAGCGGAGGGACUGGCCCUGUGAAGCUUCAGCAACCGCCGGUA---UCGGCCAGGUGCUAAAUCCAGCGAAUUGGAUUAAUUCGGAAGAUAAGAA</td><td style = \"text-align: left;\">Anoxybacillus amylolyticus</td><td style = \"text-align: left;\">Bacteria; Bacillota; Bacilli; Bacillales; Bacillaceae; Anoxybacillus</td><td style = \"text-align: left;\">Bacteria</td><td style = \"text-align: left;\">Bacillota</td><td style = \"text-align: left;\">Bacillota;Bacilli</td></tr><tr><td class = \"rowNumber\" style = \"font-weight: bold; text-align: right;\">8</td><td style = \"text-align: left;\">MLYR01000039.1/10199-10087</td><td style = \"text-align: left;\">CUCUUAUCCAGAGCGGCGGAGGGAUAGGCCCAAUGAAGCC-CGGCAACCUUCAAGGUACUUGAAAAGGUGCUAAUUCCUGCAGGUUAUAUUAACCUGAAAGAUAAGAG</td><td style = \"text-align: left;\">Bacillus sp. MUM 116</td><td style = \"text-align: left;\">Bacteria; Bacillota; Bacilli; Bacillales; Bacillaceae; Bacillus</td><td style = \"text-align: left;\">Bacteria</td><td style = \"text-align: left;\">Bacillota</td><td style = \"text-align: left;\">Bacillota;Bacilli</td></tr><tr><td class = \"rowNumber\" style = \"font-weight: bold; text-align: right;\">9</td><td style = \"text-align: left;\">CCAX010000001.1/1527012-1526900</td><td style = \"text-align: left;\">CUCUUAUCUUGAGCGGUGGAGGGACUGGCCCUGUGAAACCGCGGCAACCUUCAACUAUGUUGA-AAGGUGCCAAUUCCUGCAAAGUGAA-AACUUUGACAGAUGAGAG</td><td style = \"text-align: left;\">Oceanobacillus picturae</td><td style = \"text-align: left;\">Bacteria; Bacillota; Bacilli; Bacillales; Bacillaceae; Oceanobacillus</td><td style = \"text-align: left;\">Bacteria</td><td style = \"text-align: left;\">Bacillota</td><td style = \"text-align: left;\">Bacillota;Bacilli</td></tr><tr><td class = \"rowNumber\" style = \"font-weight: bold; text-align: right;\">10</td><td style = \"text-align: left;\">AP008955.1/2297881-2297982</td><td style = \"text-align: left;\">CUCUUAUCCAGAGAGGCAGAGGGACUGGCCUGAUGAAGCCUCGGCAACCGGUA--AAAAUC----CGGUGCCAAUUCCAGCAAAGCUACGUGCUUUGAAAGAUAAGAG</td><td style = \"text-align: left;\">Brevibacillus brevis NBRC 100599</td><td style = \"text-align: left;\">Bacteria; Bacillota; Bacilli; Bacillales; Paenibacillaceae; Brevibacillus</td><td style = \"text-align: left;\">Bacteria</td><td style = \"text-align: left;\">Bacillota</td><td style = \"text-align: left;\">Bacillota;Bacilli</td></tr><tr><td class = \"rowNumber\" style = \"font-weight: bold; text-align: right;\">11</td><td style = \"text-align: left;\">FQZB01000036.1/296-186</td><td style = \"text-align: left;\">UUCUUAUCAAGAGAAGUUGAGGGAUAGGCCCGAUGAAACUUCAGCAACCGCCAAUUCAUAUGGUAUGGUGCUAAUUCCUGCAGAGUUCAUGGCUCUGGAAGAUGAGAA</td><td style = \"text-align: left;\">Clostridium cavendishii DSM 21758</td><td style = \"text-align: left;\">Bacteria; Bacillota; Clostridia; Eubacteriales; Clostridiaceae; Clostridium</td><td style = \"text-align: left;\">Bacteria</td><td style = \"text-align: left;\">Bacillota</td><td style = \"text-align: left;\">Bacillota;Clostridia</td></tr><tr><td class = \"rowNumber\" style = \"font-weight: bold; text-align: right;\">12</td><td style = \"text-align: left;\">CP019699.1/1819990-1819876</td><td style = \"text-align: left;\">CUCUUAUCCAGAGAGGUGGAGGGACUGGCCCGAUGAAACC-CGGCAACCUUUGCACGGUGCAAAAAGGUGCCAAUUCCUGCAAAGCCGUUUGUUUUGAAAGAUAAGAG</td><td style = \"text-align: left;\">Novibacillus thermophilus</td><td style = \"text-align: left;\">Bacteria; Bacillota; Bacilli; Bacillales; Thermoactinomycetaceae; Novibacillus</td><td style = \"text-align: left;\">Bacteria</td><td style = \"text-align: left;\">Bacillota</td><td style = \"text-align: left;\">Bacillota;Bacilli</td></tr><tr><td class = \"rowNumber\" style = \"font-weight: bold; text-align: right;\">13</td><td style = \"text-align: left;\">AOFT01000011.1/7456-7350</td><td style = \"text-align: left;\">UUCUUAUCCAGAGAGACGGAGGGACUGGCCCUGUGAUGUCUCAGCAACCUGCCAUC----GGCAAAGGUGCUACUUCCAGCGGAUCCUGAAGUUCCGGAAGAUAAGAA</td><td style = \"text-align: left;\">Bhargavaea cecembensis DSE10</td><td style = \"text-align: left;\">Bacteria; Bacillota; Bacilli; Bacillales; Planococcaceae; Bhargavaea</td><td style = \"text-align: left;\">Bacteria</td><td style = \"text-align: left;\">Bacillota</td><td style = \"text-align: left;\">Bacillota;Bacilli</td></tr><tr><td style = \"text-align: right;\">&vellip;</td><td style = \"text-align: right;\">&vellip;</td><td style = \"text-align: right;\">&vellip;</td><td style = \"text-align: right;\">&vellip;</td><td style = \"text-align: right;\">&vellip;</td><td style = \"text-align: right;\">&vellip;</td><td style = \"text-align: right;\">&vellip;</td><td style = \"text-align: right;\">&vellip;</td></tr><tr><td class = \"rowNumber\" style = \"font-weight: bold; text-align: right;\">889</td><td style = \"text-align: left;\">ACEV01000067.1/336881-337014</td><td style = \"text-align: left;\">CGCUCAUCCAGAGGGGCAGAGGGAACGGCCCGACGAAGCCCCGGCAACCGGCGU-------ACCACGGUGCCAAUUCCGGCCCGCU---UCGGCGGGGCAGAUGAGGA</td><td style = \"text-align: left;\">Streptomyces sp. AA4</td><td style = \"text-align: left;\">Bacteria; Actinomycetota; Streptomycetales; Streptomycetaceae; Streptomyces</td><td style = \"text-align: left;\">Bacteria</td><td style = \"text-align: left;\">Actinomycetota</td><td style = \"text-align: left;\">Actinomycetota;Streptomycetales</td></tr><tr><td class = \"rowNumber\" style = \"font-weight: bold; text-align: right;\">890</td><td style = \"text-align: left;\">ACEU01000265.1/7365-7210</td><td style = \"text-align: left;\">CGCUCAUCCAGAGGGGCAGAGGGAACGGCCCGUUGAAGCCCCGGCAACCCUCCAGCC---CGGGAAGGUGCCAAUUCCGUCUCGCGGCGAGCGCGGGGAAGAUGAGGA</td><td style = \"text-align: left;\">Streptomyces sp. SPB78</td><td style = \"text-align: left;\">Bacteria; Actinomycetota; Streptomycetales; Streptomycetaceae; Streptomyces</td><td style = \"text-align: left;\">Bacteria</td><td style = \"text-align: left;\">Actinomycetota</td><td style = \"text-align: left;\">Actinomycetota;Streptomycetales</td></tr><tr><td class = \"rowNumber\" style = \"font-weight: bold; text-align: right;\">891</td><td style = \"text-align: left;\">ABYC01000290.1/27042-27199</td><td style = \"text-align: left;\">CGCUCAUCCAGAGGGGCAGAGGGAACGGCCCGUUGAAGCCCCGGCAACCCUCCGGU----CGGGAAGGUGCCAAUUCCGUCUCGCGGCGAGCGCGAGGAAGAUGAGGA</td><td style = \"text-align: left;\">Streptomyces albidoflavus</td><td style = \"text-align: left;\">Bacteria; Actinomycetota; Streptomycetales; Streptomycetaceae; Streptomyces; Streptomyces albidoflavus group</td><td style = \"text-align: left;\">Bacteria</td><td style = \"text-align: left;\">Actinomycetota</td><td style = \"text-align: left;\">Actinomycetota;Streptomycetales</td></tr><tr><td class = \"rowNumber\" style = \"font-weight: bold; text-align: right;\">892</td><td style = \"text-align: left;\">ABYA01000312.1/4381-4534</td><td style = \"text-align: left;\">AGCUCAUCCAGAGGGGCAGAGGGAACGGCCCGAUGAAGCCCCGGCAACCCUCCAGC----AGGGAAGGUGCCAAAUCCGUCU-------------GGCGAGAUGCGUC</td><td style = \"text-align: left;\">Streptomyces viridosporus ATCC 14672</td><td style = \"text-align: left;\">Bacteria; Actinomycetota; Streptomycetales; Streptomycetaceae; Streptomyces</td><td style = \"text-align: left;\">Bacteria</td><td style = \"text-align: left;\">Actinomycetota</td><td style = \"text-align: left;\">Actinomycetota;Streptomycetales</td></tr><tr><td class = \"rowNumber\" style = \"font-weight: bold; text-align: right;\">893</td><td style = \"text-align: left;\">CP003056.1/960835-960734</td><td style = \"text-align: left;\">GCCUUAUCAAGAGAGGCGGAGGGAUUGGCCCGAUGAAACCUCAGCAACCGCCCAUA----CGGCACGGUGCUAAAUCCAACAGGUA-----UACCUGAAAGAUAAGGA</td><td style = \"text-align: left;\">Weizmannia coagulans 36D1</td><td style = \"text-align: left;\">Bacteria; Bacillota; Bacilli; Bacillales; Bacillaceae; Weizmannia</td><td style = \"text-align: left;\">Bacteria</td><td style = \"text-align: left;\">Bacillota</td><td style = \"text-align: left;\">Bacillota;Bacilli</td></tr><tr><td class = \"rowNumber\" style = \"font-weight: bold; text-align: right;\">894</td><td style = \"text-align: left;\">ABJG02000470.1/2764-2919</td><td style = \"text-align: left;\">CGCUCAUCCAGAGGGGCAGAGGGAACGGCCCGUUGAAGCCCCGGCAACCCUCCAGCC---CGGGAAGGUGCCAAUUCCGUCUCGCGGUGAGCGCGAGGAAGAUGAGGA</td><td style = \"text-align: left;\">Streptomyces sp. SPB074</td><td style = \"text-align: left;\">Bacteria; Actinomycetota; Streptomycetales; Streptomycetaceae; Streptomyces</td><td style = \"text-align: left;\">Bacteria</td><td style = \"text-align: left;\">Actinomycetota</td><td style = \"text-align: left;\">Actinomycetota;Streptomycetales</td></tr><tr><td class = \"rowNumber\" style = \"font-weight: bold; text-align: right;\">895</td><td style = \"text-align: left;\">ABJJ02000300.1/30118-29960</td><td style = \"text-align: left;\">CGCUCAUCCAGAGGGGCAGAGGGAACGGCCCGAUGAAGCCCCGGCAACCCUCCAGUC---CGGGAAGGUGCCAAAUCCGUCUCACGGCGAGCGUGAGGAAGAUGAGGA</td><td style = \"text-align: left;\">Streptomyces sviceus ATCC 29083</td><td style = \"text-align: left;\">Bacteria; Actinomycetota; Streptomycetales; Streptomycetaceae; Streptomyces</td><td style = \"text-align: left;\">Bacteria</td><td style = \"text-align: left;\">Actinomycetota</td><td style = \"text-align: left;\">Actinomycetota;Streptomycetales</td></tr><tr><td class = \"rowNumber\" style = \"font-weight: bold; text-align: right;\">896</td><td style = \"text-align: left;\">AAXU02000001.1/3185191-3185093</td><td style = \"text-align: left;\">AGCUUAUCGAGAAAGACUGAGGGAAGGGCCCGACGACGUCUUAGCAACCUGU---------ACCAAGGUGCUAAUUCCCAUCCCGAAUA-UUCGGGAAUAGAUGAGCG</td><td style = \"text-align: left;\">Algoriphagus machipongonensis</td><td style = \"text-align: left;\">Bacteria; Bacteroidota; Cytophagia; Cytophagales; Cyclobacteriaceae; Algoriphagus</td><td style = \"text-align: left;\">Bacteria</td><td style = \"text-align: left;\">Bacteroidota</td><td style = \"text-align: left;\">Bacteroidota;Cytophagia</td></tr><tr><td class = \"rowNumber\" style = \"font-weight: bold; text-align: right;\">897</td><td style = \"text-align: left;\">ABJI02000433.1/3689-3816</td><td style = \"text-align: left;\">CGCUCAUCCAGAGGGGCAGAGGGAACGGCCCGUUGAAGCCCCGGCAACCCUCCCGCCGGUGGGGAAGGUGCCAAUUCCGUCUCGUGGCGAACACGAGGAAGAUGAGGA</td><td style = \"text-align: left;\">Streptomyces pristinaespiralis ATCC 25486</td><td style = \"text-align: left;\">Bacteria; Actinomycetota; Streptomycetales; Streptomycetaceae; Streptomyces</td><td style = \"text-align: left;\">Bacteria</td><td style = \"text-align: left;\">Actinomycetota</td><td style = \"text-align: left;\">Actinomycetota;Streptomycetales</td></tr><tr><td class = \"rowNumber\" style = \"font-weight: bold; text-align: right;\">898</td><td style = \"text-align: left;\">CP003056.1/1844232-1844126</td><td style = \"text-align: left;\">AACUUAUCAAGAGAGGGGGAGGGACUGGCCCGAGGAAACCUCAGCAACAAUUCUUUUUGGGAAUACUGUGCUAAUUCCAGCAAGCG--UCAAGCUUGGAAGAUAAGUU</td><td style = \"text-align: left;\">Weizmannia coagulans 36D1</td><td style = \"text-align: left;\">Bacteria; Bacillota; Bacilli; Bacillales; Bacillaceae; Weizmannia</td><td style = \"text-align: left;\">Bacteria</td><td style = \"text-align: left;\">Bacillota</td><td style = \"text-align: left;\">Bacillota;Bacilli</td></tr><tr><td class = \"rowNumber\" style = \"font-weight: bold; text-align: right;\">899</td><td style = \"text-align: left;\">CP001619.1/3294664-3294557</td><td style = \"text-align: left;\">GAUUUAUAAAGAAGAGGCGAGAGAUGGGCUCAACGAACCUCUGGCAACCUGCUACCACGGAG-AAAGGUGCUAAUUCCCACCUAA---GUUAUUAGGAGAUAUAAACU</td><td style = \"text-align: left;\">Dyadobacter fermentans DSM 18053</td><td style = \"text-align: left;\">Bacteria; Bacteroidota; Cytophagia; Cytophagales; Spirosomaceae; Dyadobacter</td><td style = \"text-align: left;\">Bacteria</td><td style = \"text-align: left;\">Bacteroidota</td><td style = \"text-align: left;\">Bacteroidota;Cytophagia</td></tr><tr><td class = \"rowNumber\" style = \"font-weight: bold; text-align: right;\">900</td><td style = \"text-align: left;\">ACKQ02000002.1/742513-742620</td><td style = \"text-align: left;\">AUGUUAUCAAGAAAGGUUGAGGGAUAGACCCUGUGAAACCUUAGCAACCCUUUGCGCAGUAAAGAAGGUGCUACGUUCUACCAAAA--UAAUUUUGGACAGAUAACUU</td><td style = \"text-align: left;\">Chryseobacterium gleum ATCC 35910</td><td style = \"text-align: left;\">Bacteria; Bacteroidota; Flavobacteriia; Flavobacteriales; Weeksellaceae; Chryseobacterium group; Chryseobacterium</td><td style = \"text-align: left;\">Bacteria</td><td style = \"text-align: left;\">Bacteroidota</td><td style = \"text-align: left;\">Bacteroidota;Flavobacteriia</td></tr></tbody></table></div>"
      ],
      "text/latex": [
       "\\begin{tabular}{r|ccc}\n",
       "\t& id & sequence & \\\\\n",
       "\t\\hline\n",
       "\t& String31 & String & \\\\\n",
       "\t\\hline\n",
       "\t1 & JRNX01000191.1/6612-6721 & UUCUUAUCAAGAGAGGCAGAGGGACUGGCCCUGUGAAGCCUCAGCAACCACUGGUAUAUCCAGUAAGGUGCUACGUCCAGCAAGUUGUAACAACUUGGAAGAUGAGAA & $\\dots$ \\\\\n",
       "\t2 & FQVW01000032.1/3335-3447 & CUCUUAUCCAGAGUGGUGGAGGGAAAGGCCCUACGAAACCACGGCAACCUACAAACAUUUUGGAAAGGUGCCAAAUCCUGCGAAGCGUUAUGCUUUGAAAGAUGAGAG & $\\dots$ \\\\\n",
       "\t3 & CP019698.1/2781434-2781540 & UUCUUAUCCAGAGUGGCUGAGGGACUGGCCCUGCGAAGCC-CGGCAACCUUCUUUACAUUAAGAAAGGUGCUAAUUCCUGCAGAAGGUAAUCUUCUGAAAGAUAAGAA & $\\dots$ \\\\\n",
       "\t4 & CP001983.1/3652588-3652482 & UCCUUAUCAAGAGAGGUGGAGGGACUGGCCCUGUGAAACC-CGGCAACCGCUGUCUAUGACAGAAUGGUGCCAAAUCCUUAAGAACAGUAUGUUCUUGAAGAUGAGGA & $\\dots$ \\\\\n",
       "\t5 & MSRF01000212.1/5389-5499 & CUCUUAUCAAGAGUAGCUGAGGGACUGGCCCAAUGAAGCU-CGGCAACCUCUAUUAAAAAUAGAAAGGUGCUAAAUCCUGCAAAACAUGAAGUUUUGAAAGAUAAGAG & $\\dots$ \\\\\n",
       "\t6 & LGGF01000011.1/33512-33621 & CUCUUAUCCAGAGAGGUGGAGGGACUGGCCCGAUGAAACC-CGGCAACCGCCUUAAUUAAAGGAAUGGUGCCAAUUCCUGCAGAGGAGAAUCUUCUGACAGAUAAGAG & $\\dots$ \\\\\n",
       "\t7 & CP015438.1/1142271-1142377 & UUCUUAUCAAGAGAAGCGGAGGGACUGGCCCUGUGAAGCUUCAGCAACCGCCGGUA---UCGGCCAGGUGCUAAAUCCAGCGAAUUGGAUUAAUUCGGAAGAUAAGAA & $\\dots$ \\\\\n",
       "\t8 & MLYR01000039.1/10199-10087 & CUCUUAUCCAGAGCGGCGGAGGGAUAGGCCCAAUGAAGCC-CGGCAACCUUCAAGGUACUUGAAAAGGUGCUAAUUCCUGCAGGUUAUAUUAACCUGAAAGAUAAGAG & $\\dots$ \\\\\n",
       "\t9 & CCAX010000001.1/1527012-1526900 & CUCUUAUCUUGAGCGGUGGAGGGACUGGCCCUGUGAAACCGCGGCAACCUUCAACUAUGUUGA-AAGGUGCCAAUUCCUGCAAAGUGAA-AACUUUGACAGAUGAGAG & $\\dots$ \\\\\n",
       "\t10 & AP008955.1/2297881-2297982 & CUCUUAUCCAGAGAGGCAGAGGGACUGGCCUGAUGAAGCCUCGGCAACCGGUA--AAAAUC----CGGUGCCAAUUCCAGCAAAGCUACGUGCUUUGAAAGAUAAGAG & $\\dots$ \\\\\n",
       "\t11 & FQZB01000036.1/296-186 & UUCUUAUCAAGAGAAGUUGAGGGAUAGGCCCGAUGAAACUUCAGCAACCGCCAAUUCAUAUGGUAUGGUGCUAAUUCCUGCAGAGUUCAUGGCUCUGGAAGAUGAGAA & $\\dots$ \\\\\n",
       "\t12 & CP019699.1/1819990-1819876 & CUCUUAUCCAGAGAGGUGGAGGGACUGGCCCGAUGAAACC-CGGCAACCUUUGCACGGUGCAAAAAGGUGCCAAUUCCUGCAAAGCCGUUUGUUUUGAAAGAUAAGAG & $\\dots$ \\\\\n",
       "\t13 & AOFT01000011.1/7456-7350 & UUCUUAUCCAGAGAGACGGAGGGACUGGCCCUGUGAUGUCUCAGCAACCUGCCAUC----GGCAAAGGUGCUACUUCCAGCGGAUCCUGAAGUUCCGGAAGAUAAGAA & $\\dots$ \\\\\n",
       "\t14 & LBBT01000137.1/40176-40072 & ACCUUAUUAAGAGAGGUGGAGGGACAGGCCCUGUGAAACC-CAGCAACCUUCCGAA---UGGAAAAGGUGCUAAUUCCUACAAGAUGUUAUAUCUUGAAAGAUGAGGU & $\\dots$ \\\\\n",
       "\t15 & JRUN01000047.1/21485-21589 & AUCUUAUCAAGAGAGGUCGAGGGACUGGCCCGUGGAAACCUCAGCAACCGCCACAU--AGUGGAAUGGUGCUAAUUCCAGCAAGAAAUUA-UUCUUGGAAGAUAAGAG & $\\dots$ \\\\\n",
       "\t16 & KQ758482.1/462184-462075 & CUCUUAUCAAGAGCGGCGGAGGGAUAGGCCCGAUGAAGCC-CGGCAACCUGCAGUGUCACUGUAAAGGUGCCAAUUCCUACAGAUUCAGAUAAUCUGGAAGAUAAGGG & $\\dots$ \\\\\n",
       "\t17 & CP002131.1/1797461-1797347 & CUCUUAUCAAGAGUGGUGGAGGGACUGGCCCGAUGAAACC-CGGCAACCGUUAGAAGCUCUAAAAUGGUGCCAAUUCCUGCAAAACGUUAAGUUUUGAGAGAUAAGAG & $\\dots$ \\\\\n",
       "\t18 & LWSG01000004.1/70123-70230 & CUCUUAUCAAGAGUGGCAGAGGGACUGGCCCGAUGACGCC-CGGCAACCGUUCUAUUAUAGAAUU-GGUGCUAAAUCCUGCAAAACCGUUAGUUUUGAAAGAUAAGAG & $\\dots$ \\\\\n",
       "\t19 & CP012024.1/666672-666569 & UUCUUAUCAAGAGAGGUGGAGGGACUGGCCCGAUGAAUCCUCAGCAACCAGCCGAA--UUGGCCA-GGUGCUAAAUCCAGCAAACUUU-CGAGUUUGGAAGAUAAGAA & $\\dots$ \\\\\n",
       "\t20 & AVPG01000003.1/95296-95190 & UUCUUAUCAAGAGAGGCGGAGGGACUGGCCCUUUGAAGCC-CGGCAACCUUCGAAU-AGUCGAAACGGUGCCAAAUCCUGCAAGGUAUCAUUCCUUGGGAGAUGAGAG & $\\dots$ \\\\\n",
       "\t21 & CAOS01000008.1/59487-59599 & UUCUUAUCCAGAGCGGCUGAGGGACUGGCCCUAUGAAGCC-CGGCAACCUUCUUGGUUCGAGA-AAGGUGCUAAUUCCUGCAGAAGAUUUUCUUCUGAAAGAUAAGAA & $\\dots$ \\\\\n",
       "\t22 & CP000557.1/813121-813231 & UUCUUAUCAAGAGAAGCGGAGGGACUGGCCCUGUGAAGCUUCAGCAACCAGCCGGAAAUCGGCCA-GGUGCUAAAUCCAGCGAAUUGAGUAAAUUCGGCAGAUAAGAA & $\\dots$ \\\\\n",
       "\t23 & AZQP01000001.1/138494-138601 & CCCUUAUCAAGAGAGGUGGAGGGACGGGCCCGAUGAAACC-CGGCAACCGGUGGCAAAGCUACUAUGGUGCCAAUUCCUGCAGAAUGUUAUAUUCUGGUAGAUGAGGA & $\\dots$ \\\\\n",
       "\t24 & CM000733.1/2459477-2459373 & UUCUUAUCAAGAGAGGUAGAGGGACUGGCCCUAUGAAACCUCGGCAGCGAUUCAAU--AUGAAUACUGUGCCAAUUCCAGCAAGUG--AAAGACUUGAAAGAUAAGAA & $\\dots$ \\\\\n",
       "\t$\\dots$ & $\\dots$ & $\\dots$ &  \\\\\n",
       "\\end{tabular}\n"
      ],
      "text/plain": [
       "\u001b[1m900×7 DataFrame\u001b[0m\n",
       "\u001b[1m Row \u001b[0m│\u001b[1m id                              \u001b[0m\u001b[1m sequence                          \u001b[0m\u001b[1m org\u001b[0m ⋯\n",
       "     │\u001b[90m String31                        \u001b[0m\u001b[90m String                            \u001b[0m\u001b[90m Str\u001b[0m ⋯\n",
       "─────┼──────────────────────────────────────────────────────────────────────────\n",
       "   1 │ JRNX01000191.1/6612-6721         UUCUUAUCAAGAGAGGCAGAGGGACUGGCCCU…  Hal ⋯\n",
       "   2 │ FQVW01000032.1/3335-3447         CUCUUAUCCAGAGUGGUGGAGGGAAAGGCCCU…  Orn\n",
       "   3 │ CP019698.1/2781434-2781540       UUCUUAUCCAGAGUGGCUGAGGGACUGGCCCU…  Des\n",
       "   4 │ CP001983.1/3652588-3652482       UCCUUAUCAAGAGAGGUGGAGGGACUGGCCCU…  Pri\n",
       "   5 │ MSRF01000212.1/5389-5499         CUCUUAUCAAGAGUAGCUGAGGGACUGGCCCA…  Bac ⋯\n",
       "   6 │ LGGF01000011.1/33512-33621       CUCUUAUCCAGAGAGGUGGAGGGACUGGCCCG…  Des\n",
       "   7 │ CP015438.1/1142271-1142377       UUCUUAUCAAGAGAAGCGGAGGGACUGGCCCU…  Ano\n",
       "   8 │ MLYR01000039.1/10199-10087       CUCUUAUCCAGAGCGGCGGAGGGAUAGGCCCA…  Bac\n",
       "  ⋮  │                ⋮                                 ⋮                      ⋱\n",
       " 894 │ ABJG02000470.1/2764-2919         CGCUCAUCCAGAGGGGCAGAGGGAACGGCCCG…  Str ⋯\n",
       " 895 │ ABJJ02000300.1/30118-29960       CGCUCAUCCAGAGGGGCAGAGGGAACGGCCCG…  Str\n",
       " 896 │ AAXU02000001.1/3185191-3185093   AGCUUAUCGAGAAAGACUGAGGGAAGGGCCCG…  Alg\n",
       " 897 │ ABJI02000433.1/3689-3816         CGCUCAUCCAGAGGGGCAGAGGGAACGGCCCG…  Str\n",
       " 898 │ CP003056.1/1844232-1844126       AACUUAUCAAGAGAGGGGGAGGGACUGGCCCG…  Wei ⋯\n",
       " 899 │ CP001619.1/3294664-3294557       GAUUUAUAAAGAAGAGGCGAGAGAUGGGCUCA…  Dya\n",
       " 900 │ ACKQ02000002.1/742513-742620     AUGUUAUCAAGAAAGGUUGAGGGAUAGACCCU…  Chr\n",
       "\u001b[36m                                                  5 columns and 885 rows omitted\u001b[0m"
      ]
     },
     "metadata": {},
     "output_type": "display_data"
    }
   ],
   "source": [
    "using StatsBase: sample\n",
    "N_samples = 150\n",
    "train_id = []\n",
    "for id_collection in subphylum_ids\n",
    "    append!(train_id, sample(id_collection, N_samples, replace=false))\n",
    "end\n",
    "\n",
    "train_data = filter(row -> row[\"id\"] in train_id, MSA_df)"
   ]
  },
  {
   "cell_type": "code",
   "execution_count": 30,
   "metadata": {},
   "outputs": [
    {
     "ename": "BoundsError",
     "evalue": "BoundsError: attempt to access 0-element Vector{Int64} at index [1]",
     "output_type": "error",
     "traceback": [
      "BoundsError: attempt to access 0-element Vector{Int64} at index [1]\n",
      "\n",
      "Stacktrace:\n",
      " [1] getindex(A::Vector{Int64}, i1::Int64)\n",
      "   @ Base ./array.jl:924\n",
      " [2] top-level scope\n",
      "   @ ~/Desktop/SAM/get_labels.ipynb:2"
     ]
    }
   ],
   "source": [
    "for j in 1:nrow(MSA_df)\n",
    "    if phyla_counts.count[findall(phyla_counts.phylum.== MSA_df[j, :phylum])][1] < 160 \n",
    "        MSA_df[!, :phylum][j] = \"other\"\n",
    "    end\n",
    "end\n",
    "\n",
    "label_file = open(\"labels.txt\",\"w+\")\n",
    "\n",
    "for label in MSA_df.phylum\n",
    "    println(label_file, label)\n",
    "end\n",
    "close(label_file)\n",
    "\n"
   ]
  },
  {
   "cell_type": "code",
   "execution_count": 28,
   "metadata": {},
   "outputs": [
    {
     "data": {
      "text/html": [
       "<div><div style = \"float: left;\"><span>105×2 DataFrame</span></div><div style = \"float: right;\"><span style = \"font-style: italic;\">80 rows omitted</span></div><div style = \"clear: both;\"></div></div><div class = \"data-frame\" style = \"overflow-x: scroll;\"><table class = \"data-frame\" style = \"margin-bottom: 6px;\"><thead><tr class = \"header\"><th class = \"rowNumber\" style = \"font-weight: bold; text-align: right;\">Row</th><th style = \"text-align: left;\">subphylum</th><th style = \"text-align: left;\">count</th></tr><tr class = \"subheader headerLastRow\"><th class = \"rowNumber\" style = \"font-weight: bold; text-align: right;\"></th><th title = \"String\" style = \"text-align: left;\">String</th><th title = \"Int64\" style = \"text-align: left;\">Int64</th></tr></thead><tbody><tr><td class = \"rowNumber\" style = \"font-weight: bold; text-align: right;\">1</td><td style = \"text-align: left;\">Bacillota;Bacilli</td><td style = \"text-align: right;\">2382</td></tr><tr><td class = \"rowNumber\" style = \"font-weight: bold; text-align: right;\">2</td><td style = \"text-align: left;\">Bacillota;Clostridia</td><td style = \"text-align: right;\">1013</td></tr><tr><td class = \"rowNumber\" style = \"font-weight: bold; text-align: right;\">3</td><td style = \"text-align: left;\">Bacteroidota;Flavobacteriia</td><td style = \"text-align: right;\">361</td></tr><tr><td class = \"rowNumber\" style = \"font-weight: bold; text-align: right;\">4</td><td style = \"text-align: left;\">other</td><td style = \"text-align: right;\">319</td></tr><tr><td class = \"rowNumber\" style = \"font-weight: bold; text-align: right;\">5</td><td style = \"text-align: left;\">Bacteroidota;Cytophagia</td><td style = \"text-align: right;\">246</td></tr><tr><td class = \"rowNumber\" style = \"font-weight: bold; text-align: right;\">6</td><td style = \"text-align: left;\">Actinomycetota;Streptomycetales</td><td style = \"text-align: right;\">203</td></tr><tr><td class = \"rowNumber\" style = \"font-weight: bold; text-align: right;\">7</td><td style = \"text-align: left;\">Actinomycetota;Micrococcales</td><td style = \"text-align: right;\">170</td></tr><tr><td class = \"rowNumber\" style = \"font-weight: bold; text-align: right;\">8</td><td style = \"text-align: left;\">Bacillota;Negativicutes</td><td style = \"text-align: right;\">157</td></tr><tr><td class = \"rowNumber\" style = \"font-weight: bold; text-align: right;\">9</td><td style = \"text-align: left;\">Bacteroidota;Sphingobacteriia</td><td style = \"text-align: right;\">149</td></tr><tr><td class = \"rowNumber\" style = \"font-weight: bold; text-align: right;\">10</td><td style = \"text-align: left;\">Pseudomonadota;Deltaproteobacteria</td><td style = \"text-align: right;\">89</td></tr><tr><td class = \"rowNumber\" style = \"font-weight: bold; text-align: right;\">11</td><td style = \"text-align: left;\">Actinomycetota;Pseudonocardiales</td><td style = \"text-align: right;\">88</td></tr><tr><td class = \"rowNumber\" style = \"font-weight: bold; text-align: right;\">12</td><td style = \"text-align: left;\">Pseudomonadota;Gammaproteobacteria</td><td style = \"text-align: right;\">76</td></tr><tr><td class = \"rowNumber\" style = \"font-weight: bold; text-align: right;\">13</td><td style = \"text-align: left;\">Bacillota;Tissierellia</td><td style = \"text-align: right;\">66</td></tr><tr><td style = \"text-align: right;\">&vellip;</td><td style = \"text-align: right;\">&vellip;</td><td style = \"text-align: right;\">&vellip;</td></tr><tr><td class = \"rowNumber\" style = \"font-weight: bold; text-align: right;\">94</td><td style = \"text-align: left;\">Bacteroidota;environmental samples</td><td style = \"text-align: right;\">1</td></tr><tr><td class = \"rowNumber\" style = \"font-weight: bold; text-align: right;\">95</td><td style = \"text-align: left;\">Pseudomonadota;Zetaproteobacteria</td><td style = \"text-align: right;\">1</td></tr><tr><td class = \"rowNumber\" style = \"font-weight: bold; text-align: right;\">96</td><td style = \"text-align: left;\">Nitrospirae;Nitrospirales</td><td style = \"text-align: right;\">1</td></tr><tr><td class = \"rowNumber\" style = \"font-weight: bold; text-align: right;\">97</td><td style = \"text-align: left;\">Candidatus Saccharibacteria;Candidatus Saccharimonadia</td><td style = \"text-align: right;\">1</td></tr><tr><td class = \"rowNumber\" style = \"font-weight: bold; text-align: right;\">98</td><td style = \"text-align: left;\">Acidobacteria;Bryobacterales</td><td style = \"text-align: right;\">1</td></tr><tr><td class = \"rowNumber\" style = \"font-weight: bold; text-align: right;\">99</td><td style = \"text-align: left;\">Actinobacteria;Actinomycetales</td><td style = \"text-align: right;\">1</td></tr><tr><td class = \"rowNumber\" style = \"font-weight: bold; text-align: right;\">100</td><td style = \"text-align: left;\">Planctomycetota;Phycisphaerae</td><td style = \"text-align: right;\">1</td></tr><tr><td class = \"rowNumber\" style = \"font-weight: bold; text-align: right;\">101</td><td style = \"text-align: left;\">metagenomes;organismal metagenomes</td><td style = \"text-align: right;\">1</td></tr><tr><td class = \"rowNumber\" style = \"font-weight: bold; text-align: right;\">102</td><td style = \"text-align: left;\">Coprothermobacterota;Coprothermobacteria</td><td style = \"text-align: right;\">1</td></tr><tr><td class = \"rowNumber\" style = \"font-weight: bold; text-align: right;\">103</td><td style = \"text-align: left;\">Chloroflexi;Thermomicrobiales</td><td style = \"text-align: right;\">1</td></tr><tr><td class = \"rowNumber\" style = \"font-weight: bold; text-align: right;\">104</td><td style = \"text-align: left;\">Actinobacteria;Frankiales</td><td style = \"text-align: right;\">1</td></tr><tr><td class = \"rowNumber\" style = \"font-weight: bold; text-align: right;\">105</td><td style = \"text-align: left;\">Actinomycetota;Glycomycetales</td><td style = \"text-align: right;\">1</td></tr></tbody></table></div>"
      ],
      "text/latex": [
       "\\begin{tabular}{r|cc}\n",
       "\t& subphylum & count\\\\\n",
       "\t\\hline\n",
       "\t& String & Int64\\\\\n",
       "\t\\hline\n",
       "\t1 & Bacillota;Bacilli & 2382 \\\\\n",
       "\t2 & Bacillota;Clostridia & 1013 \\\\\n",
       "\t3 & Bacteroidota;Flavobacteriia & 361 \\\\\n",
       "\t4 & other & 319 \\\\\n",
       "\t5 & Bacteroidota;Cytophagia & 246 \\\\\n",
       "\t6 & Actinomycetota;Streptomycetales & 203 \\\\\n",
       "\t7 & Actinomycetota;Micrococcales & 170 \\\\\n",
       "\t8 & Bacillota;Negativicutes & 157 \\\\\n",
       "\t9 & Bacteroidota;Sphingobacteriia & 149 \\\\\n",
       "\t10 & Pseudomonadota;Deltaproteobacteria & 89 \\\\\n",
       "\t11 & Actinomycetota;Pseudonocardiales & 88 \\\\\n",
       "\t12 & Pseudomonadota;Gammaproteobacteria & 76 \\\\\n",
       "\t13 & Bacillota;Tissierellia & 66 \\\\\n",
       "\t14 & Firmicutes;Bacilli & 62 \\\\\n",
       "\t15 & Fusobacteria;Fusobacteriales & 43 \\\\\n",
       "\t16 & Deinococcus-Thermus;Deinococci & 38 \\\\\n",
       "\t17 & Bacteroidota;Chitinophagia & 35 \\\\\n",
       "\t18 & Actinomycetota;Micromonosporales & 35 \\\\\n",
       "\t19 & Chloroflexi;Anaerolineae & 34 \\\\\n",
       "\t20 & Actinomycetota;Corynebacteriales & 34 \\\\\n",
       "\t21 & Actinomycetota;Actinomycetales & 32 \\\\\n",
       "\t22 & Bacillota;environmental samples & 30 \\\\\n",
       "\t23 & Actinomycetota;Propionibacteriales & 30 \\\\\n",
       "\t24 & Tenericutes;Mollicutes & 24 \\\\\n",
       "\t$\\dots$ & $\\dots$ & $\\dots$ \\\\\n",
       "\\end{tabular}\n"
      ],
      "text/plain": [
       "\u001b[1m105×2 DataFrame\u001b[0m\n",
       "\u001b[1m Row \u001b[0m│\u001b[1m subphylum                         \u001b[0m\u001b[1m count \u001b[0m\n",
       "     │\u001b[90m String                            \u001b[0m\u001b[90m Int64 \u001b[0m\n",
       "─────┼──────────────────────────────────────────\n",
       "   1 │ Bacillota;Bacilli                   2382\n",
       "   2 │ Bacillota;Clostridia                1013\n",
       "   3 │ Bacteroidota;Flavobacteriia          361\n",
       "   4 │ other                                319\n",
       "   5 │ Bacteroidota;Cytophagia              246\n",
       "   6 │ Actinomycetota;Streptomycetales      203\n",
       "   7 │ Actinomycetota;Micrococcales         170\n",
       "   8 │ Bacillota;Negativicutes              157\n",
       "  ⋮  │                 ⋮                    ⋮\n",
       "  99 │ Actinobacteria;Actinomycetales         1\n",
       " 100 │ Planctomycetota;Phycisphaerae          1\n",
       " 101 │ metagenomes;organismal metagenom…      1\n",
       " 102 │ Coprothermobacterota;Coprothermo…      1\n",
       " 103 │ Chloroflexi;Thermomicrobiales          1\n",
       " 104 │ Actinobacteria;Frankiales              1\n",
       " 105 │ Actinomycetota;Glycomycetales          1\n",
       "\u001b[36m                                 90 rows omitted\u001b[0m"
      ]
     },
     "metadata": {},
     "output_type": "display_data"
    }
   ],
   "source": [
    "subphyla_counts = sort!(combine(groupby(MSA_df, :subphylum), :phylum => length => :count), :count, rev=true)\n",
    "\n"
   ]
  }
 ],
 "metadata": {
  "kernelspec": {
   "display_name": "Julia 1.8.5",
   "language": "julia",
   "name": "julia-1.8"
  },
  "language_info": {
   "file_extension": ".jl",
   "mimetype": "application/julia",
   "name": "julia",
   "version": "1.8.5"
  },
  "orig_nbformat": 4
 },
 "nbformat": 4,
 "nbformat_minor": 2
}
