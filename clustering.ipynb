{
 "cells": [
  {
   "cell_type": "code",
   "execution_count": null,
   "metadata": {},
   "outputs": [],
   "source": [
    "clustering_3 = kmeans(h3_data_rot[end-1:end,:], 3)\n",
    "\n",
    "scatter(df_h3.PC1 , markerstrokewidth=0.1, ms=3, df_h3.PC2, group=df_h3.Label,title=\"Hidden3 PC1 vs PC2\", legend=false)\n",
    "scatter!(clustering_3.centers[2,:], clustering.centers[1,:], ms=5, markershape= :rect, color= :black)\n",
    "\n",
    "xlabel!(\"PC1\")\n",
    "ylabel!(\"PC2\")"
   ]
  },
  {
   "cell_type": "code",
   "execution_count": null,
   "metadata": {},
   "outputs": [],
   "source": [
    "# identify those points in the dataset\n",
    "centers = clustering.centers\n",
    "idx= [argmin(abs.( df_h3.PC1 .- centers[2, i])) for i in 1:3]\n",
    "#h3_pos = [hidden_data3[:, idx]]\n",
    "#pca_h3_pos = [h3_data_rot[:, idx]]\n",
    "pca_v_pos = []\n",
    "v_pos = []\n",
    "#start dynamics: \n",
    "\n",
    "j=1 # then once this works iterate over j \n",
    "#for now track just one center \n",
    "N_steps = 100\n",
    "\n",
    "\n",
    "\n",
    "pca_v = []\n",
    "\n",
    "conf_h3 = h3_pos[end][:,1]\n",
    "\n",
    "\n",
    "pca_v1 = []\n",
    "pca_h3 = []\n",
    "conf_h3 = h3_pos[end][:,1] #start from one center\n",
    "\n",
    "for i in 1:N_steps\n",
    "    temp_v3 = sample_v_from_h(rbm3, conf_h3)\n",
    "    temp_h2 = temp_v3\n",
    "    temp_v2 = sample_v_from_h(rbm2, temp_h2)\n",
    "    temp_h1 = temp_v2\n",
    "    conf_v1 = sample_v_from_h(rbm1, temp_h1)\n",
    "\n",
    "    append!(pca_v1, (Transpose(O_v)*conf_v1)[end-1:end, :] )\n",
    "\n",
    "    temp_h1 = sample_h_from_v(rbm1, conf_v1)\n",
    "    temp_v2 = temp_h1\n",
    "    temp_h2 = sample_h_from_v(rbm2, temp_v2)\n",
    "    temp_v3 = temp_h2\n",
    "    conf_h3 = sample_h_from_v(rbm3, temp_v3)\n",
    "\n",
    "    append!(pca_h3, (Transpose(O_3)*conf_h3)[end-1:end, :] )\n",
    "end"
   ]
  }
 ],
 "metadata": {
  "kernelspec": {
   "display_name": "Julia 1.8.5",
   "language": "julia",
   "name": "julia-1.8"
  },
  "language_info": {
   "file_extension": ".jl",
   "mimetype": "application/julia",
   "name": "julia",
   "version": "1.8.5"
  },
  "orig_nbformat": 4
 },
 "nbformat": 4,
 "nbformat_minor": 2
}
