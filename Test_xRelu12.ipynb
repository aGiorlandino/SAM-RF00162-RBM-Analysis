{
 "cells": [
  {
   "cell_type": "markdown",
   "id": "14153696-e536-4929-95cc-0a4bb9655604",
   "metadata": {},
   "source": [
    "The goal here is to train ONE RBM, then I will use similar code to do hyperparametric search."
   ]
  },
  {
   "cell_type": "code",
   "execution_count": 1,
   "id": "c01921a7",
   "metadata": {},
   "outputs": [
    {
     "name": "stderr",
     "output_type": "stream",
     "text": [
      "\u001b[32m\u001b[1m  Activating\u001b[22m\u001b[39m project at `~/Desktop/SAM`\n"
     ]
    },
    {
     "name": "stderr",
     "output_type": "stream",
     "text": [
      "\u001b[32m\u001b[1m  No Changes\u001b[22m\u001b[39m to `~/Desktop/SAM/Project.toml`\n",
      "\u001b[32m\u001b[1m  No Changes\u001b[22m\u001b[39m to `~/Desktop/SAM/Manifest.toml`\n"
     ]
    }
   ],
   "source": [
    "# Activate project\n",
    "using Pkg\n",
    "Pkg.activate(\"/Users/alessiogiorlandino/Desktop/SAM/Project.toml\")\n",
    "Base.active_project()\n",
    "# Resolve dependencies\n",
    "Pkg.resolve()"
   ]
  },
  {
   "cell_type": "code",
   "execution_count": 2,
   "id": "597ccb77",
   "metadata": {},
   "outputs": [
    {
     "name": "stderr",
     "output_type": "stream",
     "text": [
      "\u001b[32m\u001b[1m    CondaPkg \u001b[22m\u001b[39m\u001b[0mFound dependencies: /Users/alessiogiorlandino/.julia/packages/Logomaker/DdglG/CondaPkg.toml\n"
     ]
    },
    {
     "name": "stderr",
     "output_type": "stream",
     "text": [
      "\u001b[32m\u001b[1m    CondaPkg \u001b[22m\u001b[39m\u001b[0mFound dependencies: /Users/alessiogiorlandino/.julia/packages/PythonCall/dsECZ/CondaPkg.toml\n"
     ]
    },
    {
     "name": "stderr",
     "output_type": "stream",
     "text": [
      "\u001b[32m\u001b[1m    CondaPkg \u001b[22m\u001b[39m\u001b[0mFound dependencies: /Users/alessiogiorlandino/.julia/packages/Logomaker/DdglG/CondaPkg.toml\n"
     ]
    },
    {
     "name": "stderr",
     "output_type": "stream",
     "text": [
      "\u001b[32m\u001b[1m    CondaPkg \u001b[22m\u001b[39m\u001b[0mFound dependencies: /Users/alessiogiorlandino/.julia/packages/PythonCall/dsECZ/CondaPkg.toml\n"
     ]
    },
    {
     "name": "stderr",
     "output_type": "stream",
     "text": [
      "\u001b[32m\u001b[1m    CondaPkg \u001b[22m\u001b[39m\u001b[0mDependencies already up to date\n"
     ]
    }
   ],
   "source": [
    "import Rfam, Infernal, Logomaker, FASTX\n",
    "using Optimisers: Adam\n",
    "using EllipsisNotation: (..)\n",
    "using FillArrays: Falses\n",
    "import Makie, CairoMakie\n",
    "using Makie: @colorant_str\n",
    "import SamApp\n",
    "using LinearAlgebra\n",
    "using Statistics"
   ]
  },
  {
   "cell_type": "code",
   "execution_count": 3,
   "id": "0be05eb1-bf2e-44e3-b714-8d111f66fa54",
   "metadata": {
    "tags": []
   },
   "outputs": [],
   "source": [
    "using BioSequences: LongRNA, @rna_str\n",
    "using Statistics: mean, std, cor\n",
    "import JLD2\n",
    "\n",
    "import RestrictedBoltzmannMachines as RBMs\n",
    "import CudaRBMs, CenteredRBMs\n",
    "using CudaRBMs: gpu, cpu\n",
    "using CenteredRBMs: CenteredRBM, center, uncenter, center_from_data!\n",
    "using RestrictedBoltzmannMachines: initialize!, RBM, xReLU, Potts, pcd!, Binary, log_pseudolikelihood, free_energy\n",
    "using RBMsAnnealedImportanceSampling: aise, raise, logmeanexp, logstdexp, logvarexp\n",
    "\n",
    "using MiniLoggers: global_logger, MiniLogger\n",
    "global_logger(MiniLogger());"
   ]
  },
  {
   "cell_type": "markdown",
   "id": "acbee705-a71a-4d29-a03b-a5c63d2319b9",
   "metadata": {},
   "source": [
    "# Load sequence data from Rfam"
   ]
  },
  {
   "cell_type": "code",
   "execution_count": 4,
   "id": "dc64a8cc-19ef-4f77-affd-522664671464",
   "metadata": {},
   "outputs": [],
   "source": [
    "cm = Infernal.cmfetch(Rfam.cm(), \"RF00162\")\n",
    "natural_seed_stk = Infernal.esl_afetch(Rfam.seed(), \"RF00162\");\n",
    "natural_seed_afa = Infernal.esl_reformat(\"afa\", natural_seed_stk.out);\n",
    "natural_seed_ids = FASTX.identifier.(FASTX.FASTA.Reader(open(natural_seed_afa.out)));\n",
    "\n",
    "# Consensus secondary structure in WUSS format\n",
    "seed_wuss = SamApp.stockholm_ss(natural_seed_stk.out)\n",
    "seed_match_positions = findall(c -> c ≠ '.' && c ≠ '~', seed_wuss);\n",
    "\n",
    "natural_hits_afa = Infernal.cmalign(Infernal.cmfetch(Rfam.cm(), \"RF00162\").out, Rfam.fasta_file(\"RF00162\"); outformat=\"afa\");\n",
    "natural_hits_ids = FASTX.identifier.(FASTX.FASTA.Reader(open(natural_hits_afa.out)));"
   ]
  },
  {
   "cell_type": "code",
   "execution_count": 5,
   "id": "77113a80-9d4c-48fb-aa68-47be0c650bc6",
   "metadata": {
    "tags": []
   },
   "outputs": [],
   "source": [
    "natural_seed_sequences_matchonly = map(FASTX.FASTA.Reader(open(natural_seed_afa.out))) do record\n",
    "    FASTX.sequence(record)[seed_match_positions]\n",
    "end\n",
    "\n",
    "natural_hits_sequences_matchonly = map(FASTX.FASTA.Reader(open(natural_hits_afa.out))) do record\n",
    "    filter(c -> !islowercase(c) && c ≠ '.', FASTX.sequence(record))\n",
    "end\n",
    "\n",
    "@assert only(unique(length.(natural_seed_sequences_matchonly))) == length(seed_match_positions) == 108\n",
    "@assert only(unique(length.(natural_hits_sequences_matchonly))) == length(seed_match_positions) == 108"
   ]
  },
  {
   "cell_type": "code",
   "execution_count": 6,
   "id": "b988b329-3736-492d-b7e2-c0950d9b3906",
   "metadata": {
    "tags": []
   },
   "outputs": [],
   "source": [
    "data_hits = SamApp.onehot(LongRNA{4}.(natural_hits_sequences_matchonly));"
   ]
  },
  {
   "cell_type": "code",
   "execution_count": 7,
   "id": "7e3b274e",
   "metadata": {},
   "outputs": [
    {
     "ename": "PythonCall.PyException",
     "evalue": "Python: UnicodeEncodeError: 'ascii' codec can't encode character '\\u229f' in position 21: ordinal not in range(128)",
     "output_type": "error",
     "traceback": [
      "Python: UnicodeEncodeError: 'ascii' codec can't encode character '\\u229f' in position 21: ordinal not in range(128)\n",
      "\n",
      "Stacktrace:\n",
      " [1] pythrow()\n",
      "   @ PythonCall ~/.julia/packages/PythonCall/dsECZ/src/err.jl:94\n",
      " [2] errcheck\n",
      "   @ ~/.julia/packages/PythonCall/dsECZ/src/err.jl:10 [inlined]\n",
      " [3] pycallargs(f::PythonCall.Py, args::PythonCall.Py, kwargs::PythonCall.Py)\n",
      "   @ PythonCall ~/.julia/packages/PythonCall/dsECZ/src/abstract/object.jl:211\n",
      " [4] pycall(f::PythonCall.Py, args::PythonCall.Py; kwargs::Base.Pairs{Symbol, String, Tuple{Symbol}, NamedTuple{(:color_scheme,), Tuple{String}}})\n",
      "   @ PythonCall ~/.julia/packages/PythonCall/dsECZ/src/abstract/object.jl:222\n",
      " [5] #_#11\n",
      "   @ ~/.julia/packages/PythonCall/dsECZ/src/Py.jl:352 [inlined]\n",
      " [6] Logo(weights::Matrix{Float64}, chars::Vector{Char}; positions::UnitRange{Int64}, kwargs::Base.Pairs{Symbol, String, Tuple{Symbol}, NamedTuple{(:color_scheme,), Tuple{String}}})\n",
      "   @ Logomaker ~/.julia/packages/Logomaker/DdglG/src/Logomaker.jl:24\n",
      " [7] seqlogo_entropic(p::Matrix{Float64}; max_ylim::Bool)\n",
      "   @ SamApp ~/.julia/packages/SamApp/LVUw2/src/logomaker.jl:15\n",
      " [8] seqlogo_entropic(p::Matrix{Float64})\n",
      "   @ SamApp ~/.julia/packages/SamApp/LVUw2/src/logomaker.jl:8\n",
      " [9] top-level scope\n",
      "   @ ~/Desktop/SAM/Test_XRelu12.ipynb:1"
     ]
    }
   ],
   "source": [
    "SamApp.seqlogo_entropic(reshape(mean(data_hits; dims=3), 5, 108)).fig"
   ]
  },
  {
   "cell_type": "code",
   "execution_count": 8,
   "id": "8b4ed00f",
   "metadata": {},
   "outputs": [],
   "source": [
    "#SamApp.rf00162_seed_taxonomy()"
   ]
  },
  {
   "cell_type": "code",
   "execution_count": 9,
   "id": "ecbb1f44",
   "metadata": {},
   "outputs": [],
   "source": [
    "#SamApp.rf00162_hits_taxonomy()"
   ]
  },
  {
   "attachments": {},
   "cell_type": "markdown",
   "id": "79d5f3d2",
   "metadata": {},
   "source": [
    "# PCA"
   ]
  },
  {
   "cell_type": "code",
   "execution_count": 10,
   "id": "d0212fed",
   "metadata": {},
   "outputs": [
    {
     "data": {
      "text/plain": [
       "540×540 Matrix{Float64}:\n",
       " -0.00500608  -0.00373539   0.00116988   …  -0.024502     -0.0279693\n",
       " -0.00500608  -0.00373539   0.00116988       0.00386802    0.0372477\n",
       " -0.00500608  -0.00373539   0.00116988      -0.024368     -0.0346185\n",
       " -0.00500608  -0.00373539   0.00116988       0.0450736     0.0258592\n",
       " -0.00500608  -0.00373539   0.00116988      -7.56379e-5   -0.000531111\n",
       "  0.0250623    0.0397066   -0.0148391    …  -0.0204701    -0.068204\n",
       "  0.0250623    0.0397066   -0.0148391        0.00704773   -0.0224542\n",
       "  0.0250623    0.0397066   -0.0148391       -0.0891822    -0.043177\n",
       "  0.0250623    0.0397066   -0.0148391        0.102815      0.134019\n",
       "  0.0250623    0.0397066   -0.0148391       -0.000214233  -0.000195645\n",
       "  ⋮                                      ⋱                \n",
       " -0.15687     -0.0205068   -0.0538109       -0.0236288    -0.0134448\n",
       " -0.15687     -0.0205068   -0.0538109       -0.0325534    -0.05601\n",
       " -0.15687     -0.0205068   -0.0538109       -0.0538271    -0.0315493\n",
       " -0.15687     -0.0205068   -0.0538109        0.00626282   -0.0140949\n",
       " -0.137853    -0.199568    -9.61318e-15  …  -0.0361039     0.00509997\n",
       " -0.137853    -0.199568    -9.39911e-15     -0.0287147    -0.0144844\n",
       " -0.137853    -0.199568    -9.4276e-15       0.0855451     0.0479765\n",
       " -0.137853    -0.199568    -1.0715e-14      -0.0270693    -0.0238916\n",
       " -0.137853    -0.199568     0.0              0.00634281   -0.0147004"
      ]
     },
     "metadata": {},
     "output_type": "display_data"
    }
   ],
   "source": [
    "data_shape = size(data_hits)\n",
    "data_flatten = reshape(data_hits, (data_shape[1]*data_shape[2], data_shape[3]))\n",
    "data_flatten_cov = cov(data_flatten, dims=2)\n",
    "cov_eigenval = eigvals(data_flatten_cov)\n",
    "expl_ratio = cov_eigenval/sum(cov_eigenval)\n",
    "ort_trasf = eigvecs(data_flatten_cov)"
   ]
  },
  {
   "cell_type": "code",
   "execution_count": 11,
   "id": "6eaabe9d",
   "metadata": {},
   "outputs": [],
   "source": [
    "function set_negative_to_zero(arr)\n",
    "    for i in 1:length(arr)\n",
    "        if arr[i] < 0\n",
    "            arr[i] = 0\n",
    "        end\n",
    "    end\n",
    "    return arr\n",
    "end\n",
    "\n",
    "cov_eigenval = set_negative_to_zero(cov_eigenval)\n",
    "using Plots\n",
    "histogram(cov_eigenval, normalize=:pdf, ylim=(0,4), legend=false)\n",
    "# add upper threshold for Marcenko-Pastur Distribution"
   ]
  },
  {
   "cell_type": "code",
   "execution_count": null,
   "id": "1ca28675",
   "metadata": {},
   "outputs": [],
   "source": [
    "# First Component Histogram \n",
    "data_flatten_rot = transpose(ort_trasf)*data_flatten\n",
    "pc1 = data_flatten_rot[end, :]\n",
    "p1=histogram(pc1, normalize=:pdf, title=(\"PC1 (Expl. $(round(expl_ratio[end], digits=3)))\"))\n",
    "\n",
    "\n",
    "pc2 = data_flatten_rot[end-1, :]\n",
    "p2=histogram(pc2, normalize=:pdf, title=(\"PC2 (Expl. $(round(expl_ratio[end-1], digits=3)))\"))\n",
    "\n",
    "pc3 = data_flatten_rot[end-2, :]\n",
    "p3=histogram(pc3, normalize=:pdf, title=(\"PC3 (Expl. $(round(expl_ratio[end-2], digits=3)))\"))\n",
    "\n",
    "pc4 = data_flatten_rot[end-3, :]\n",
    "p4=histogram(pc4, normalize=:pdf, title=(\"PC4 (Expl. $(round(expl_ratio[end-3], digits=3)))\"))\n",
    "\n",
    "\n",
    "plot(p1, p2, p3, p4, layout=(2,2), legend=false)"
   ]
  },
  {
   "cell_type": "code",
   "execution_count": null,
   "id": "6bb14de8",
   "metadata": {},
   "outputs": [],
   "source": [
    "p1=histogram2d(pc1, pc2, title=\"PC1 vs PC2\")\n",
    "p2=histogram2d(pc1, pc3, title=\"PC1 vs PC3\")\n",
    "p3=histogram2d(pc2, pc3, title=\"PC2 vs PC3\")\n",
    "\n",
    "plot(p1, p2, p3, layout=(1,3), legend=false, size=(900,300))"
   ]
  },
  {
   "cell_type": "code",
   "execution_count": null,
   "id": "30bd864d",
   "metadata": {},
   "outputs": [],
   "source": [
    "scatter(pc1, pc2, legend=false)"
   ]
  },
  {
   "cell_type": "markdown",
   "id": "03402c8e-fa32-4788-8fd1-e2ed9634d21e",
   "metadata": {},
   "source": [
    "# Train RBM"
   ]
  },
  {
   "cell_type": "code",
   "execution_count": null,
   "id": "ef597da9-699a-4c7a-809c-9ac3aace82d6",
   "metadata": {},
   "outputs": [],
   "source": [
    "# Sparsity parameter, as defined in Tubiana, RM, 2017 PRL (denoted \\hat{p} there)\n",
    "# This is smaller for sparser weights\n",
    "function sparsity(rbm)\n",
    "    num = sum(rbm.w.^2, dims=1:ndims(rbm.visible)).^2\n",
    "    den = sum(rbm.w.^4, dims=1:ndims(rbm.visible))\n",
    "    return sum(num ./ den) / length(rbm.w)\n",
    "end"
   ]
  },
  {
   "cell_type": "code",
   "execution_count": null,
   "id": "11196f21-1377-4748-9d2f-82d9c753fb33",
   "metadata": {},
   "outputs": [],
   "source": [
    "logfile = open(\"./Log/lpl_xRelu12.txt\", \"w+\")\n",
    "#write(logfile, \"#Epoch lpl\")\n",
    "\n",
    "function callback(; rbm, iter, kw...)\n",
    "    if iszero(iter % 100)\n",
    "        Δt = @elapsed (lpl = mean(log_pseudolikelihood(rbm, data)))\n",
    "        @info iter lpl Δt\n",
    "        write(logfile, \"$iter $lpl \\n\")\n",
    "    end\n",
    "\n",
    "end\n",
    "\n"
   ]
  },
  {
   "cell_type": "code",
   "execution_count": null,
   "id": "ed4eca91-79f0-41c5-85f3-91e39da50f48",
   "metadata": {},
   "outputs": [],
   "source": [
    "data = data_hits;\n",
    "n_hidden = 12\n",
    "rbm = center(RBM(Potts((5, 108)), Binary((n_hidden,)), zeros(5, 108, n_hidden)));\n",
    "initialize!(rbm, data);"
   ]
  },
  {
   "cell_type": "code",
   "execution_count": null,
   "id": "362fb830-a7d0-461b-bb87-34130a4fc57e",
   "metadata": {
    "tags": []
   },
   "outputs": [],
   "source": [
    "pcd!(\n",
    "    rbm, data; \n",
    "    batchsize=256, iters=10000, steps=10, optim=Adam(1f-3), l2l1_weights=1f-3,\n",
    "    vm=data[.., rand(1:size(data)[end], 256)], callback\n",
    ");\n",
    "\n",
    "close(logfile)"
   ]
  },
  {
   "cell_type": "code",
   "execution_count": null,
   "id": "2b7eb33a",
   "metadata": {},
   "outputs": [],
   "source": [
    "using DelimitedFiles\n",
    "data = readdlm(\"./Log/lpl_xRelu12.txt\")\n",
    "iter= data[:, 1]\n",
    "lpl = data[:, 2]\n",
    "plot(iter, lpl, legend=false)\n",
    "xlabel!(\"Epoch\")\n",
    "ylabel!(\"Log-Pseudo-Likelihood\")"
   ]
  },
  {
   "attachments": {},
   "cell_type": "markdown",
   "id": "8c207443",
   "metadata": {},
   "source": [
    "# Saving Params"
   ]
  },
  {
   "cell_type": "code",
   "execution_count": null,
   "id": "469404ad",
   "metadata": {},
   "outputs": [],
   "source": [
    "wfile = open(\"./Log/weights_xRelu12.txt\", \"w+\")\n",
    "write(wfile, \"$(RBM(rbm).w)\")\n",
    "close(wfile)"
   ]
  },
  {
   "attachments": {},
   "cell_type": "markdown",
   "id": "d82ca9a3",
   "metadata": {},
   "source": [
    "# Some Statistics of W"
   ]
  },
  {
   "cell_type": "code",
   "execution_count": null,
   "id": "9b039bb1",
   "metadata": {},
   "outputs": [],
   "source": [
    "using LaTeXStrings\n",
    "weights = vec(RBM(rbm).w)\n",
    "histogram(weights , normalize=:pdf, legend=false)\n",
    "xlabel!(L\"w_{ij}\")\n",
    "ylabel!(L\"p(w_{ij})\")"
   ]
  },
  {
   "attachments": {},
   "cell_type": "markdown",
   "id": "acb12cb3",
   "metadata": {},
   "source": [
    "In quadratic case: \n",
    "$E_{eff-interaction} = -1/2 \\sum_{i,j}\\left( \\sum_{\\mu} w_{i\\mu} w_{j\\mu}\\right)v_iv_j \\rightarrow  J_{ij}= \\sum_{\\mu} w_{i\\mu} w_{j\\mu}$\n",
    "\n",
    "Even though we are not in gaussian case, let's explore $J_{ij}$."
   ]
  },
  {
   "cell_type": "code",
   "execution_count": null,
   "id": "dff5a7ce",
   "metadata": {},
   "outputs": [],
   "source": [
    "w_shape = size(RBM(rbm).w) \n",
    "w = reshape(RBM(rbm).w, (w_shape[1]*w_shape[2],w_shape[3]))\n",
    "J = vec(w*transpose(w))\n",
    "histogram(J , normalize=:pdf, legend=false, xlim=(-0.07,0.07))\n",
    "xlabel!(L\"J_{ij}\")\n",
    "ylabel!(L\"p(J_{ij})\")\n"
   ]
  },
  {
   "attachments": {},
   "cell_type": "markdown",
   "id": "49ca91f4",
   "metadata": {},
   "source": [
    "# Sampling a Representation of the Sequences"
   ]
  },
  {
   "cell_type": "code",
   "execution_count": null,
   "id": "aa2c4014",
   "metadata": {},
   "outputs": [],
   "source": [
    "import RestrictedBoltzmannMachines\n",
    "hidden_data = zeros(n_hidden, data_shape[3])\n",
    "for i in 1:data_shape[3]\n",
    "    hidden_data[:,i]=RestrictedBoltzmannMachines.sample_h_from_v(rbm, data_hits[:,:,i]) \n",
    "end\n"
   ]
  },
  {
   "cell_type": "code",
   "execution_count": null,
   "id": "055e7eab",
   "metadata": {},
   "outputs": [],
   "source": [
    "hidden_cov = cov(hidden_data, dims=2)\n",
    "h_cov_eigenval = eigvals(hidden_cov)\n",
    "h_expl_ratio = h_cov_eigenval/sum(h_cov_eigenval)\n",
    "h_ort_trasf = eigvecs(hidden_cov)\n",
    "h_cov_eigenval = set_negative_to_zero(cov_eigenval)\n",
    "histogram(h_cov_eigenval, normalize=:pdf, legend=false, ylim=(0,4))\n"
   ]
  },
  {
   "cell_type": "code",
   "execution_count": null,
   "id": "9465851a",
   "metadata": {},
   "outputs": [],
   "source": [
    "hidden_data_rot = transpose(h_ort_trasf)*hidden_data\n",
    "hpc1 = hidden_data_rot[end, :]\n",
    "hp1=histogram(hpc1, normalize=:pdf, title=(\"PC1 (Expl. $(round(h_expl_ratio[end], digits=3)))\"))\n",
    "\n",
    "\n",
    "hpc2 = hidden_data_rot[end-1, :]\n",
    "hp2=histogram(hpc2, normalize=:pdf, title=(\"PC2 (Expl. $(round(h_expl_ratio[end-1], digits=3)))\"))\n",
    "\n",
    "hpc3 = hidden_data_rot[end-2, :]\n",
    "hp3=histogram(hpc3, normalize=:pdf, title=(\"PC3 (Expl. $(round(h_expl_ratio[end-2], digits=3)))\"))\n",
    "\n",
    "hpc4 = hidden_data_rot[end-3, :]\n",
    "hp4=histogram(hpc4, normalize=:pdf, title=(\"PC4 (Expl. $(round(h_expl_ratio[end-3], digits=3)))\"))\n",
    "\n",
    "\n",
    "plot(hp1, hp2, hp3, hp4, layout=(2,2), legend=false)"
   ]
  },
  {
   "cell_type": "code",
   "execution_count": null,
   "id": "bf79359e",
   "metadata": {},
   "outputs": [],
   "source": [
    "p1=histogram2d(hpc1, hpc2, title=\"PC1 vs PC2\")\n",
    "p2=histogram2d(hpc1, hpc3, title=\"PC1 vs PC3\")\n",
    "p3=histogram2d(hpc2, hpc3, title=\"PC2 vs PC3\")\n",
    "\n",
    "plot(p1, p2, p3, layout=(1,3), legend=false, size=(900,300))"
   ]
  },
  {
   "cell_type": "code",
   "execution_count": null,
   "id": "4e805ed1",
   "metadata": {},
   "outputs": [],
   "source": [
    "p1 = scatter(pc1, pc2, title=\"Visible PC1 vs PC2\", legend=false)\n",
    "p2 = scatter(hpc1, hpc2, title=\"Hidden PC1 vs PC2\", legend=false)\n",
    "\n",
    "plot(p1, p2, layout=(1,2), legend=false, size=(800,300))"
   ]
  },
  {
   "cell_type": "code",
   "execution_count": null,
   "id": "4631d933",
   "metadata": {},
   "outputs": [],
   "source": [
    "p1 = scatter(pc1, pc3, title=\"Visible PC1 vs PC3\", legend=false)\n",
    "p2 = scatter(hpc1, hpc3, title=\"Hidden PC1 vs PC3\", legend=false)\n",
    "\n",
    "plot(p1, p2, layout=(1,2), legend=false, size=(800,300))"
   ]
  },
  {
   "cell_type": "code",
   "execution_count": null,
   "id": "ba9ab3ad",
   "metadata": {},
   "outputs": [],
   "source": [
    "p1 = scatter(pc2, pc3, title=\"Visible PC1 vs PC3\", legend=false)\n",
    "p2 = scatter(hpc2, hpc3, title=\"Hidden PC1 vs PC3\", legend=false)\n",
    "\n",
    "plot(p1, p2, layout=(1,2), legend=false, size=(800,300))"
   ]
  }
 ],
 "metadata": {
  "kernelspec": {
   "display_name": "Julia 1.8.5",
   "language": "julia",
   "name": "julia-1.8"
  },
  "language_info": {
   "file_extension": ".jl",
   "mimetype": "application/julia",
   "name": "julia",
   "version": "1.8.5"
  }
 },
 "nbformat": 4,
 "nbformat_minor": 5
}
